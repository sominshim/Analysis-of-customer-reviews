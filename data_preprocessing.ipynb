{
 "cells": [
  {
   "cell_type": "code",
   "execution_count": 17,
   "metadata": {},
   "outputs": [],
   "source": [
    "import numpy as np\n",
    "import pandas as pd\n",
    "import re"
   ]
  },
  {
   "cell_type": "markdown",
   "metadata": {},
   "source": [
    "1. 평점 (Rating): `rating`\n",
    "2. 아이디 (User ID): `user_id`\n",
    "3. 작성날짜 (Review Date): `review_date`\n",
    "4. 제품명 (Product Name): `product_name`\n",
    "5. 간단리뷰 (Brief Review): `user_comment`\n",
    "6. 리뷰유형 (Review Type): `review_type`\n",
    "    - 이 변수는 '한달사용기', '재구매', 'BEST' 등의 값을 포함할 수 있다.\n",
    "7. 리뷰내용 (Review Content): `review_content`\n",
    "8. 추천수 (Number of Likes/Recommendations): `recommendation_count`"
   ]
  },
  {
   "cell_type": "markdown",
   "metadata": {},
   "source": [
    "## FootHealth"
   ]
  },
  {
   "cell_type": "code",
   "execution_count": 18,
   "metadata": {},
   "outputs": [
    {
     "data": {
      "text/html": [
       "<div>\n",
       "<style scoped>\n",
       "    .dataframe tbody tr th:only-of-type {\n",
       "        vertical-align: middle;\n",
       "    }\n",
       "\n",
       "    .dataframe tbody tr th {\n",
       "        vertical-align: top;\n",
       "    }\n",
       "\n",
       "    .dataframe thead th {\n",
       "        text-align: right;\n",
       "    }\n",
       "</style>\n",
       "<table border=\"1\" class=\"dataframe\">\n",
       "  <thead>\n",
       "    <tr style=\"text-align: right;\">\n",
       "      <th></th>\n",
       "      <th>review_date</th>\n",
       "      <th>user_id</th>\n",
       "      <th>rating</th>\n",
       "      <th>product_info</th>\n",
       "      <th>review_text</th>\n",
       "      <th>image_yn</th>\n",
       "      <th>recommendation_count</th>\n",
       "    </tr>\n",
       "  </thead>\n",
       "  <tbody>\n",
       "    <tr>\n",
       "      <th>0</th>\n",
       "      <td>24.01.02.</td>\n",
       "      <td>ccm5***</td>\n",
       "      <td>5</td>\n",
       "      <td>교정 단계: 2단계 / 제품 모델: 액티브(DFH801) / 사이즈: 270~280...</td>\n",
       "      <td>아들이 군대갈때 평발이 있어서 가져갔는데 훈련받을때도 발이 아프지 않고 편하다고 하...</td>\n",
       "      <td>Y</td>\n",
       "      <td>0</td>\n",
       "    </tr>\n",
       "    <tr>\n",
       "      <th>1</th>\n",
       "      <td>24.01.02.</td>\n",
       "      <td>kore*****</td>\n",
       "      <td>5</td>\n",
       "      <td>교정 단계: 2단계 / 제품 모델: 액티런(DFH803) / 사이즈: 225~235...</td>\n",
       "      <td>평발이라 조금만 걸어도 발이 아파서 ㅠㅠ기능성 깔창을 계속 사용해온 1인 입니다 여...</td>\n",
       "      <td>N</td>\n",
       "      <td>0</td>\n",
       "    </tr>\n",
       "    <tr>\n",
       "      <th>2</th>\n",
       "      <td>24.01.01.</td>\n",
       "      <td>imju******</td>\n",
       "      <td>5</td>\n",
       "      <td>교정 단계: 2단계 / 제품 모델: 액티런(DFH803) / 사이즈: 270~280...</td>\n",
       "      <td>일때문에 자주 걷는편인데\\n자꾸 아프게 되어 여러가지 알아보다\\n구매했습니다\\n일단...</td>\n",
       "      <td>N</td>\n",
       "      <td>0</td>\n",
       "    </tr>\n",
       "    <tr>\n",
       "      <th>3</th>\n",
       "      <td>23.12.31.</td>\n",
       "      <td>sept*********</td>\n",
       "      <td>5</td>\n",
       "      <td>교정 단계: 2단계 / 제품 모델: 액티브(DFH801) / 사이즈: 225~235...</td>\n",
       "      <td>제가 진짜 좋다는 깔창은 나 사서 써본 사람으로써 이제품 찐으로 좋아요 ㅠㅠ \\n하...</td>\n",
       "      <td>N</td>\n",
       "      <td>0</td>\n",
       "    </tr>\n",
       "    <tr>\n",
       "      <th>4</th>\n",
       "      <td>23.12.31.</td>\n",
       "      <td>dmsq********</td>\n",
       "      <td>5</td>\n",
       "      <td>교정 단계: 2단계 / 제품 모델: 액티브(DFH801) / 사이즈: 210~220...</td>\n",
       "      <td>한달사용기몇년째 군화에 넣고 활용중인데 좋아요. 가격이 좀 비싸서 타회사 다른 상품...</td>\n",
       "      <td>N</td>\n",
       "      <td>0</td>\n",
       "    </tr>\n",
       "  </tbody>\n",
       "</table>\n",
       "</div>"
      ],
      "text/plain": [
       "  review_date        user_id  rating  \\\n",
       "0   24.01.02.        ccm5***       5   \n",
       "1   24.01.02.      kore*****       5   \n",
       "2   24.01.01.     imju******       5   \n",
       "3   23.12.31.  sept*********       5   \n",
       "4   23.12.31.   dmsq********       5   \n",
       "\n",
       "                                        product_info  \\\n",
       "0  교정 단계: 2단계 / 제품 모델: 액티브(DFH801) / 사이즈: 270~280...   \n",
       "1  교정 단계: 2단계 / 제품 모델: 액티런(DFH803) / 사이즈: 225~235...   \n",
       "2  교정 단계: 2단계 / 제품 모델: 액티런(DFH803) / 사이즈: 270~280...   \n",
       "3  교정 단계: 2단계 / 제품 모델: 액티브(DFH801) / 사이즈: 225~235...   \n",
       "4  교정 단계: 2단계 / 제품 모델: 액티브(DFH801) / 사이즈: 210~220...   \n",
       "\n",
       "                                         review_text image_yn  \\\n",
       "0  아들이 군대갈때 평발이 있어서 가져갔는데 훈련받을때도 발이 아프지 않고 편하다고 하...        Y   \n",
       "1  평발이라 조금만 걸어도 발이 아파서 ㅠㅠ기능성 깔창을 계속 사용해온 1인 입니다 여...        N   \n",
       "2  일때문에 자주 걷는편인데\\n자꾸 아프게 되어 여러가지 알아보다\\n구매했습니다\\n일단...        N   \n",
       "3  제가 진짜 좋다는 깔창은 나 사서 써본 사람으로써 이제품 찐으로 좋아요 ㅠㅠ \\n하...        N   \n",
       "4  한달사용기몇년째 군화에 넣고 활용중인데 좋아요. 가격이 좀 비싸서 타회사 다른 상품...        N   \n",
       "\n",
       "   recommendation_count  \n",
       "0                     0  \n",
       "1                     0  \n",
       "2                     0  \n",
       "3                     0  \n",
       "4                     0  "
      ]
     },
     "execution_count": 18,
     "metadata": {},
     "output_type": "execute_result"
    }
   ],
   "source": [
    "df = pd.read_excel('data/FootHealth.xlsx')\n",
    "df.head()"
   ]
  },
  {
   "cell_type": "code",
   "execution_count": 19,
   "metadata": {},
   "outputs": [
    {
     "data": {
      "text/plain": [
       "(6380, 7)"
      ]
     },
     "execution_count": 19,
     "metadata": {},
     "output_type": "execute_result"
    }
   ],
   "source": [
    "df.shape"
   ]
  },
  {
   "cell_type": "code",
   "execution_count": 3,
   "metadata": {},
   "outputs": [
    {
     "name": "stdout",
     "output_type": "stream",
     "text": [
      "<class 'pandas.core.frame.DataFrame'>\n",
      "RangeIndex: 6380 entries, 0 to 6379\n",
      "Data columns (total 7 columns):\n",
      " #   Column                Non-Null Count  Dtype \n",
      "---  ------                --------------  ----- \n",
      " 0   review_date           6380 non-null   object\n",
      " 1   user_id               6380 non-null   object\n",
      " 2   rating                6380 non-null   int64 \n",
      " 3   product_info          6380 non-null   object\n",
      " 4   review_text           6380 non-null   object\n",
      " 5   image_yn              6380 non-null   object\n",
      " 6   recommendation_count  6380 non-null   int64 \n",
      "dtypes: int64(2), object(5)\n",
      "memory usage: 349.0+ KB\n"
     ]
    }
   ],
   "source": [
    "df.info()"
   ]
  },
  {
   "cell_type": "code",
   "execution_count": 4,
   "metadata": {},
   "outputs": [
    {
     "data": {
      "text/plain": [
       "'교정 단계: 2단계 / 제품 모델: 액티브(DFH801) / 사이즈: 270~280\\n마감처리깔끔해요사이즈정사이즈예요'"
      ]
     },
     "execution_count": 4,
     "metadata": {},
     "output_type": "execute_result"
    }
   ],
   "source": [
    "# product_info -> product_name, user_comment 등 분리\n",
    "df.product_info[0]"
   ]
  },
  {
   "cell_type": "code",
   "execution_count": 5,
   "metadata": {},
   "outputs": [],
   "source": [
    "def split_product_info(df, brand_name):\n",
    "    product_step = []\n",
    "    product_name = []\n",
    "    product_size = []\n",
    "    user_comment = []\n",
    "\n",
    "    if brand_name == '닥터풋헬스': # - 교정 단계, 제품 모델, 사이즈\n",
    "        for txt in df.product_info:\n",
    "            splited_txt = txt.split('\\n')\n",
    "            if len(splited_txt) == 2: # 제품정보 + 사용자 코멘트 둘 다 있는 경우\n",
    "                product = splited_txt[0].split(' / ')\n",
    "                product_step.append(product[0].split(': ')[-1])\n",
    "                product_name.append(product[1].split(': ')[-1])\n",
    "                try: # 사이즈를 입력하지 않은 경우 대비\n",
    "                    product_size.append(product[2].split(': ')[-1])\n",
    "                except:\n",
    "                    product_size.append(np.nan)\n",
    "\n",
    "                user_comment.append(splited_txt[1])\n",
    "            else: # 사용자 고멘트만 있는 경우\n",
    "                product_step.append(np.nan)\n",
    "                product_name.append(np.nan)\n",
    "                product_size.append(np.nan)\n",
    "                user_comment.append(splited_txt[0])\n",
    "            \n",
    "        df['product_step'] = product_step\n",
    "        df['product_name'] = product_name\n",
    "        df['product_size'] = product_size\n",
    "        df['user_comment'] = user_comment\n",
    "\n",
    "    elif brand_name == '레드닥터': # 사이즈\n",
    "        for txt in df.product_info:\n",
    "            splited_txt = txt.split('\\n')\n",
    "            product = splited_txt[0].split(' / ')\n",
    "            product_size.append(product[0].split(': ')[-1])\n",
    "\n",
    "            user_comment.append(splited_txt[1])\n",
    "    elif brand_name == '엑스솔': # 제품. 컬러, 사이즈\n",
    "        for txt in df.product_info:\n",
    "            splited_txt = txt.split('\\n')\n",
    "            product = splited_txt[0].split(' / ')\n",
    "            # product_step.append(product[0].split(': ')[-1])\n",
    "            product_name.append(product[0].split(': ')[-1])\n",
    "            product_size.append(product[2].split(': ')[-1])\n",
    "\n",
    "            user_comment.append(splited_txt[1])\n",
    "    \n",
    "    return df"
   ]
  },
  {
   "cell_type": "code",
   "execution_count": 6,
   "metadata": {},
   "outputs": [],
   "source": [
    "prep_df = split_product_info(df, '닥터풋헬스')"
   ]
  },
  {
   "cell_type": "markdown",
   "metadata": {},
   "source": [
    "- 평소사이즈 -  mm `usual_size_mm`\n",
    "- 발유형 - 칼발, 평발, 땀 많은 발, `foot_type`\n",
    "- 마감처리 - 아주 깔끔해요, 깔끔해요, 엉성해요 `finish_qualtiy`\n",
    "- 사이즈 - 정사이즈예요, 생각보다 커요, 작아요 `size_fit`"
   ]
  },
  {
   "cell_type": "code",
   "execution_count": 9,
   "metadata": {},
   "outputs": [],
   "source": [
    "# 초기화\n",
    "prep_df['usual_size_mm'] = np.nan\n",
    "prep_df['narrow_feet'] = False\n",
    "prep_df['flat_feet'] = False\n",
    "prep_df['sweaty_feet'] = False\n",
    "prep_df['finish_quality'] = np.nan\n",
    "prep_df['size_fit'] = np.nan\n",
    "\n",
    "# product_info 내용을 각 항목별로 분리\n",
    "def process_comment(comment):\n",
    "    sizes = ['210', '215', '220', '225', '230', '235', '240', '245', '250', '255', '260', '265', '270', '275', '280', '285', '290', '295']\n",
    "    finish_qualities = ['깔끔해', '아주 깔끔해', '엉성해']\n",
    "    size_fits = ['정', '생각보다 커', '작아']\n",
    "\n",
    "    splited_comment = re.split(\"평소사이즈|mm|발|마감처리|예요|요|사이즈\", comment)\n",
    "    filtered_list = [item for item in splited_comment if item != '']  # 빈 문자열 요소 제거\n",
    "\n",
    "    result = {}\n",
    "    for e in filtered_list:\n",
    "        if e in sizes:\n",
    "            result['usual_size_mm'] = e\n",
    "        elif e == '칼':\n",
    "            result['narrow_feet'] = True\n",
    "        elif e == '평':\n",
    "            result['flat_feet'] = True\n",
    "        elif e == '땀 많은 ':\n",
    "            result['sweaty_feet'] = True\n",
    "        elif e in finish_qualities:\n",
    "            result['finish_quality'] = e\n",
    "        elif e in size_fits:\n",
    "            result['size_fit'] = e\n",
    "    return pd.Series(result)\n",
    "\n",
    "# 각 row에 해당 function 적용\n",
    "prep_df.update(prep_df['user_comment'].apply(process_comment))"
   ]
  },
  {
   "cell_type": "code",
   "execution_count": 10,
   "metadata": {},
   "outputs": [],
   "source": [
    "# 날짜형식으로 변환\n",
    "prep_df['review_date'] = pd.to_datetime(prep_df['review_date'], format=\"%y.%m.%d.\")"
   ]
  },
  {
   "cell_type": "code",
   "execution_count": 11,
   "metadata": {},
   "outputs": [],
   "source": [
    "# NaN 초기화\n",
    "prep_df['is_best'] = False\n",
    "prep_df['is_one_month'] = False\n",
    "prep_df['is_repurchase'] = False\n",
    "\n",
    "# 세 가지 종류의 리뷰 유형은 중복 가능, 단어는 '한달사용기' > 'BEST' > '재구매' 순서로 나타남.\n",
    "# '한달사용기' prefix 확인 후 해당 단어 제거\n",
    "one_month_mask = prep_df['review_text'].str.startswith('한달사용기')\n",
    "prep_df.loc[one_month_mask, 'is_one_month'] = True\n",
    "prep_df.loc[one_month_mask, 'review_text'] = prep_df.loc[one_month_mask, 'review_text'].str.replace('한달사용기', '', 1)\n",
    "\n",
    "# 'BEST' prefix 확인 후 해당 단어 제거\n",
    "best_mask = prep_df['review_text'].str.startswith('BEST')\n",
    "prep_df.loc[best_mask, 'is_best'] = True\n",
    "prep_df.loc[one_month_mask, 'review_text'] = prep_df.loc[one_month_mask, 'review_text'].str.replace('BEST', '', 1)\n",
    "\n",
    "# Check for '재구매' prefix and update columns\n",
    "repurchase_mask = prep_df['review_text'].str.startswith('재구매')\n",
    "prep_df.loc[repurchase_mask, 'is_repurchase'] = True\n",
    "prep_df.loc[one_month_mask, 'review_text'] = prep_df.loc[one_month_mask, 'review_text'].str.replace('재구매', '', 1)"
   ]
  },
  {
   "cell_type": "code",
   "execution_count": 12,
   "metadata": {},
   "outputs": [
    {
     "name": "stdout",
     "output_type": "stream",
     "text": [
      "<class 'pandas.core.frame.DataFrame'>\n",
      "RangeIndex: 6380 entries, 0 to 6379\n",
      "Data columns (total 20 columns):\n",
      " #   Column                Non-Null Count  Dtype         \n",
      "---  ------                --------------  -----         \n",
      " 0   review_date           6380 non-null   datetime64[ns]\n",
      " 1   user_id               6380 non-null   object        \n",
      " 2   rating                6380 non-null   int64         \n",
      " 3   product_info          6380 non-null   object        \n",
      " 4   review_text           6380 non-null   object        \n",
      " 5   image_yn              6380 non-null   object        \n",
      " 6   recommendation_count  6380 non-null   int64         \n",
      " 7   product_step          6055 non-null   object        \n",
      " 8   product_name          6055 non-null   object        \n",
      " 9   product_size          6033 non-null   object        \n",
      " 10  user_comment          6380 non-null   object        \n",
      " 11  usual_size_mm         282 non-null    object        \n",
      " 12  narrow_feet           6380 non-null   object        \n",
      " 13  flat_feet             6380 non-null   object        \n",
      " 14  sweaty_feet           6380 non-null   object        \n",
      " 15  finish_quality        6380 non-null   object        \n",
      " 16  size_fit              6380 non-null   object        \n",
      " 17  is_best               6380 non-null   bool          \n",
      " 18  is_one_month          6380 non-null   bool          \n",
      " 19  is_repurchase         6380 non-null   bool          \n",
      "dtypes: bool(3), datetime64[ns](1), int64(2), object(14)\n",
      "memory usage: 866.2+ KB\n"
     ]
    }
   ],
   "source": [
    "prep_df.info()"
   ]
  },
  {
   "cell_type": "code",
   "execution_count": 14,
   "metadata": {},
   "outputs": [],
   "source": [
    "prep_df = prep_df.drop(['product_info', 'user_comment'], axis=1)"
   ]
  },
  {
   "cell_type": "code",
   "execution_count": 20,
   "metadata": {},
   "outputs": [
    {
     "data": {
      "text/plain": [
       "array(['깔끔해', '아주 깔끔해', '엉성해'], dtype=object)"
      ]
     },
     "execution_count": 20,
     "metadata": {},
     "output_type": "execute_result"
    }
   ],
   "source": [
    "prep_df.finish_quality.unique()"
   ]
  },
  {
   "cell_type": "code",
   "execution_count": 21,
   "metadata": {},
   "outputs": [
    {
     "data": {
      "text/plain": [
       "array(['정', '생각보다 커', '작아'], dtype=object)"
      ]
     },
     "execution_count": 21,
     "metadata": {},
     "output_type": "execute_result"
    }
   ],
   "source": [
    "prep_df.size_fit.unique()"
   ]
  },
  {
   "cell_type": "markdown",
   "metadata": {},
   "source": [
    "- finish_quality\n",
    "    - '아주 깔끔해': 'Very Good'\n",
    "    - '깔끔해': 'Good'\n",
    "    - '엉성해': 'Poor'\n",
    "\n",
    "- size_fit\n",
    "    - '정': 'Regular'\n",
    "    - '생각보다 커': 'Larger than Expected'\n",
    "    - '작아': 'Smaller than Expected'"
   ]
  },
  {
   "cell_type": "code",
   "execution_count": 22,
   "metadata": {},
   "outputs": [],
   "source": [
    "# 'finish_quality' 컬럼의 값 변경\n",
    "prep_df['finish_quality'] = prep_df['finish_quality'].replace({\n",
    "                                                                '아주 깔끔해': 'Very Good',\n",
    "                                                                '깔끔해': 'Good',\n",
    "                                                                '엉성해': 'Poor'\n",
    "                                                            })\n",
    "\n",
    "# 'size_fit' 컬럼의 값 변경\n",
    "prep_df['size_fit'] = prep_df['size_fit'].replace({\n",
    "                                                    '정': 'Regular',\n",
    "                                                    '생각보다 커': 'Larger than Expected',\n",
    "                                                    '작아': 'Smaller than Expected'\n",
    "                                                })"
   ]
  },
  {
   "cell_type": "code",
   "execution_count": 23,
   "metadata": {},
   "outputs": [
    {
     "data": {
      "text/html": [
       "<div>\n",
       "<style scoped>\n",
       "    .dataframe tbody tr th:only-of-type {\n",
       "        vertical-align: middle;\n",
       "    }\n",
       "\n",
       "    .dataframe tbody tr th {\n",
       "        vertical-align: top;\n",
       "    }\n",
       "\n",
       "    .dataframe thead th {\n",
       "        text-align: right;\n",
       "    }\n",
       "</style>\n",
       "<table border=\"1\" class=\"dataframe\">\n",
       "  <thead>\n",
       "    <tr style=\"text-align: right;\">\n",
       "      <th></th>\n",
       "      <th>review_date</th>\n",
       "      <th>user_id</th>\n",
       "      <th>rating</th>\n",
       "      <th>review_text</th>\n",
       "      <th>image_yn</th>\n",
       "      <th>recommendation_count</th>\n",
       "      <th>product_step</th>\n",
       "      <th>product_name</th>\n",
       "      <th>product_size</th>\n",
       "      <th>usual_size_mm</th>\n",
       "      <th>narrow_feet</th>\n",
       "      <th>flat_feet</th>\n",
       "      <th>sweaty_feet</th>\n",
       "      <th>finish_quality</th>\n",
       "      <th>size_fit</th>\n",
       "      <th>is_best</th>\n",
       "      <th>is_one_month</th>\n",
       "      <th>is_repurchase</th>\n",
       "    </tr>\n",
       "  </thead>\n",
       "  <tbody>\n",
       "    <tr>\n",
       "      <th>0</th>\n",
       "      <td>2024-01-02</td>\n",
       "      <td>ccm5***</td>\n",
       "      <td>5</td>\n",
       "      <td>아들이 군대갈때 평발이 있어서 가져갔는데 훈련받을때도 발이 아프지 않고 편하다고 하...</td>\n",
       "      <td>Y</td>\n",
       "      <td>0</td>\n",
       "      <td>2단계</td>\n",
       "      <td>액티브(DFH801)</td>\n",
       "      <td>270~280</td>\n",
       "      <td>NaN</td>\n",
       "      <td>False</td>\n",
       "      <td>False</td>\n",
       "      <td>False</td>\n",
       "      <td>Good</td>\n",
       "      <td>Regular</td>\n",
       "      <td>False</td>\n",
       "      <td>False</td>\n",
       "      <td>False</td>\n",
       "    </tr>\n",
       "    <tr>\n",
       "      <th>1</th>\n",
       "      <td>2024-01-02</td>\n",
       "      <td>kore*****</td>\n",
       "      <td>5</td>\n",
       "      <td>평발이라 조금만 걸어도 발이 아파서 ㅠㅠ기능성 깔창을 계속 사용해온 1인 입니다 여...</td>\n",
       "      <td>N</td>\n",
       "      <td>0</td>\n",
       "      <td>2단계</td>\n",
       "      <td>액티런(DFH803)</td>\n",
       "      <td>225~235</td>\n",
       "      <td>NaN</td>\n",
       "      <td>False</td>\n",
       "      <td>False</td>\n",
       "      <td>False</td>\n",
       "      <td>Very Good</td>\n",
       "      <td>Regular</td>\n",
       "      <td>False</td>\n",
       "      <td>False</td>\n",
       "      <td>False</td>\n",
       "    </tr>\n",
       "    <tr>\n",
       "      <th>2</th>\n",
       "      <td>2024-01-01</td>\n",
       "      <td>imju******</td>\n",
       "      <td>5</td>\n",
       "      <td>일때문에 자주 걷는편인데\\n자꾸 아프게 되어 여러가지 알아보다\\n구매했습니다\\n일단...</td>\n",
       "      <td>N</td>\n",
       "      <td>0</td>\n",
       "      <td>2단계</td>\n",
       "      <td>액티런(DFH803)</td>\n",
       "      <td>270~280</td>\n",
       "      <td>NaN</td>\n",
       "      <td>False</td>\n",
       "      <td>False</td>\n",
       "      <td>False</td>\n",
       "      <td>Very Good</td>\n",
       "      <td>Regular</td>\n",
       "      <td>False</td>\n",
       "      <td>False</td>\n",
       "      <td>False</td>\n",
       "    </tr>\n",
       "    <tr>\n",
       "      <th>3</th>\n",
       "      <td>2023-12-31</td>\n",
       "      <td>sept*********</td>\n",
       "      <td>5</td>\n",
       "      <td>제가 진짜 좋다는 깔창은 나 사서 써본 사람으로써 이제품 찐으로 좋아요 ㅠㅠ \\n하...</td>\n",
       "      <td>N</td>\n",
       "      <td>0</td>\n",
       "      <td>2단계</td>\n",
       "      <td>액티브(DFH801)</td>\n",
       "      <td>225~235</td>\n",
       "      <td>235</td>\n",
       "      <td>True</td>\n",
       "      <td>False</td>\n",
       "      <td>False</td>\n",
       "      <td>Very Good</td>\n",
       "      <td>Regular</td>\n",
       "      <td>False</td>\n",
       "      <td>False</td>\n",
       "      <td>False</td>\n",
       "    </tr>\n",
       "    <tr>\n",
       "      <th>4</th>\n",
       "      <td>2023-12-31</td>\n",
       "      <td>dmsq********</td>\n",
       "      <td>5</td>\n",
       "      <td>몇년째 군화에 넣고 활용중인데 좋아요. 가격이 좀 비싸서 타회사 다른 상품도 몇번 ...</td>\n",
       "      <td>N</td>\n",
       "      <td>0</td>\n",
       "      <td>2단계</td>\n",
       "      <td>액티브(DFH801)</td>\n",
       "      <td>210~220</td>\n",
       "      <td>NaN</td>\n",
       "      <td>False</td>\n",
       "      <td>False</td>\n",
       "      <td>False</td>\n",
       "      <td>Very Good</td>\n",
       "      <td>Regular</td>\n",
       "      <td>False</td>\n",
       "      <td>True</td>\n",
       "      <td>False</td>\n",
       "    </tr>\n",
       "  </tbody>\n",
       "</table>\n",
       "</div>"
      ],
      "text/plain": [
       "  review_date        user_id  rating  \\\n",
       "0  2024-01-02        ccm5***       5   \n",
       "1  2024-01-02      kore*****       5   \n",
       "2  2024-01-01     imju******       5   \n",
       "3  2023-12-31  sept*********       5   \n",
       "4  2023-12-31   dmsq********       5   \n",
       "\n",
       "                                         review_text image_yn  \\\n",
       "0  아들이 군대갈때 평발이 있어서 가져갔는데 훈련받을때도 발이 아프지 않고 편하다고 하...        Y   \n",
       "1  평발이라 조금만 걸어도 발이 아파서 ㅠㅠ기능성 깔창을 계속 사용해온 1인 입니다 여...        N   \n",
       "2  일때문에 자주 걷는편인데\\n자꾸 아프게 되어 여러가지 알아보다\\n구매했습니다\\n일단...        N   \n",
       "3  제가 진짜 좋다는 깔창은 나 사서 써본 사람으로써 이제품 찐으로 좋아요 ㅠㅠ \\n하...        N   \n",
       "4  몇년째 군화에 넣고 활용중인데 좋아요. 가격이 좀 비싸서 타회사 다른 상품도 몇번 ...        N   \n",
       "\n",
       "   recommendation_count product_step product_name product_size usual_size_mm  \\\n",
       "0                     0          2단계  액티브(DFH801)      270~280           NaN   \n",
       "1                     0          2단계  액티런(DFH803)      225~235           NaN   \n",
       "2                     0          2단계  액티런(DFH803)      270~280           NaN   \n",
       "3                     0          2단계  액티브(DFH801)      225~235           235   \n",
       "4                     0          2단계  액티브(DFH801)      210~220           NaN   \n",
       "\n",
       "  narrow_feet flat_feet sweaty_feet finish_quality size_fit  is_best  \\\n",
       "0       False     False       False           Good  Regular    False   \n",
       "1       False     False       False      Very Good  Regular    False   \n",
       "2       False     False       False      Very Good  Regular    False   \n",
       "3        True     False       False      Very Good  Regular    False   \n",
       "4       False     False       False      Very Good  Regular    False   \n",
       "\n",
       "   is_one_month  is_repurchase  \n",
       "0         False          False  \n",
       "1         False          False  \n",
       "2         False          False  \n",
       "3         False          False  \n",
       "4          True          False  "
      ]
     },
     "execution_count": 23,
     "metadata": {},
     "output_type": "execute_result"
    }
   ],
   "source": [
    "prep_df.head()"
   ]
  },
  {
   "cell_type": "code",
   "execution_count": 24,
   "metadata": {},
   "outputs": [],
   "source": [
    "prep_df.to_excel(\"data/prep_data/prep_FootHealth.xlsx\", index=False)"
   ]
  },
  {
   "cell_type": "code",
   "execution_count": null,
   "metadata": {},
   "outputs": [],
   "source": []
  },
  {
   "cell_type": "code",
   "execution_count": null,
   "metadata": {},
   "outputs": [],
   "source": []
  },
  {
   "cell_type": "code",
   "execution_count": null,
   "metadata": {},
   "outputs": [],
   "source": []
  }
 ],
 "metadata": {
  "kernelspec": {
   "display_name": "crawling",
   "language": "python",
   "name": "python3"
  },
  "language_info": {
   "codemirror_mode": {
    "name": "ipython",
    "version": 3
   },
   "file_extension": ".py",
   "mimetype": "text/x-python",
   "name": "python",
   "nbconvert_exporter": "python",
   "pygments_lexer": "ipython3",
   "version": "3.9.18"
  }
 },
 "nbformat": 4,
 "nbformat_minor": 2
}
