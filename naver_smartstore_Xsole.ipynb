{
 "cells": [
  {
   "cell_type": "markdown",
   "metadata": {},
   "source": [
    "# 닥터풋헬스 스마트스토어 고객 리뷰 수집\n",
    "- 링크: https://smartstore.naver.com/foothealth/products/4868868795\n",
    "- 수집할 데이터 요소: \n",
    "    1. 평점 (Rating): `rating`\n",
    "    2. 아이디 (User ID): `user_id`\n",
    "    3. 작성날짜 (Review Date): `review_date`\n",
    "    4. 제품명 (Product Name): `product_name`\n",
    "    5. 간단리뷰 (Brief Review): `brief_review`\n",
    "    6. 리뷰유형 (Review Type): `review_type`\n",
    "        - 이 변수는 '한달사용기', '재구매', 'BEST' 등의 값을 포함할 수 있다.\n",
    "    7. 리뷰내용 (Review Content): `review_content`\n",
    "    8. 추천수 (Number of Likes/Recommendations): `recommendation_count`"
   ]
  },
  {
   "cell_type": "code",
   "execution_count": 1,
   "metadata": {},
   "outputs": [],
   "source": [
    "# -*- coding: utf-8 -*-\n",
    "from datetime import datetime\n",
    "import pandas as pd\n",
    "import numpy as np\n",
    "import time, random\n",
    "import re\n",
    "from tqdm.notebook import trange, tqdm\n",
    "\n",
    "from selenium import webdriver\n",
    "from selenium.webdriver.chrome.service import Service as ChromeService\n",
    "from selenium.webdriver.chrome.options import Options\n",
    "from webdriver_manager.chrome import ChromeDriverManager\n",
    "from selenium.webdriver.common.by import By"
   ]
  },
  {
   "cell_type": "code",
   "execution_count": 2,
   "metadata": {},
   "outputs": [],
   "source": [
    "# Chrome Webdriver 불러오기\n",
    "def chromeWebdriver():\n",
    "    # 크롬 드라이버 자동 설치\n",
    "    chrome_service = ChromeService(executable_path=ChromeDriverManager().install())\n",
    "    \n",
    "    # 드라이버 옵션 설정\n",
    "    options = Options()\n",
    "    options.add_experimental_option('detach', True) # 브라우저 바로 닫힘 방지\n",
    "    options.add_experimental_option('excludeSwitches', ['enable-logging']) # 불필요한 메시지 제거\n",
    "    options.add_argument('--headless') # 백그라운드 작업\n",
    "    options.add_argument('--no-sandbox') # Bypass OS security model\n",
    "\n",
    "    driver = webdriver.Chrome(service=chrome_service, options=options)\n",
    "    \n",
    "    return driver"
   ]
  },
  {
   "cell_type": "code",
   "execution_count": 3,
   "metadata": {},
   "outputs": [
    {
     "name": "stdout",
     "output_type": "stream",
     "text": [
      "리뷰 수:  743 , 페이지 수:  38\n"
     ]
    }
   ],
   "source": [
    "# 스크래핑할 스마트스토어 주소 불러오기\n",
    "url = \"https://smartstore.naver.com/docsole/products/7381702448\"\n",
    "driver = chromeWebdriver()\n",
    "driver.get(url)\n",
    "\n",
    "SCROLL_PAUSE_SEC = 1\n",
    "\n",
    "# 스크롤 높이 가져옴\n",
    "last_height = driver.execute_script(\"return document.body.scrollHeight\")\n",
    "\n",
    "while True:\n",
    "    # 끝까지 스크롤 다운\n",
    "    driver.execute_script(\"window.scrollTo(0, document.body.scrollHeight);\")\n",
    "    # 대기\n",
    "    time.sleep(SCROLL_PAUSE_SEC)\n",
    "\n",
    "    # 스크롤 높이 초기화\n",
    "    new_height = driver.execute_script(\"return document.body.scrollHeight\")\n",
    "    if new_height == last_height: # 새로 업로드되는 페이지가 없다면\n",
    "        break\n",
    "    last_height = new_height\n",
    "    \n",
    "# 리뷰 버튼 클릭\n",
    "driver.find_element(By.XPATH, r'//*[@id=\"_productFloatingTab\"]/div/div[3]/ul/li[2]').click()\n",
    "time.sleep(1)\n",
    "# 최신순 정렬 클릭\n",
    "driver.find_element(By.XPATH, r'//*[@id=\"REVIEW\"]/div/div[3]/div[1]/div[1]/ul/li[2]').click()\n",
    "time.sleep(1)\n",
    "\n",
    "# 리뷰 개수로 페이지 수 계산\n",
    "num_reviews = driver.find_element(By.XPATH, r'//*[@id=\"content\"]/div/div[2]/div[1]/div[2]/div[1]/a/strong').text \n",
    "num_reviews = int(num_reviews.replace(\",\", \"\"))\n",
    "max_page = int(num_reviews//20 + 1)\n",
    "print('리뷰 수: ',num_reviews,', 페이지 수: ', max_page)"
   ]
  },
  {
   "cell_type": "code",
   "execution_count": 4,
   "metadata": {},
   "outputs": [
    {
     "name": "stdout",
     "output_type": "stream",
     "text": [
      "● 현재 페이지: 1 , 해당 페이지 리뷰수: 20\n"
     ]
    },
    {
     "data": {
      "application/vnd.jupyter.widget-view+json": {
       "model_id": "73693e2ae10740b1aef553d68c6a1e5d",
       "version_major": 2,
       "version_minor": 0
      },
      "text/plain": [
       "  0%|          | 0/20 [00:00<?, ?it/s]"
      ]
     },
     "metadata": {},
     "output_type": "display_data"
    },
    {
     "name": "stdout",
     "output_type": "stream",
     "text": [
      "● 현재 페이지: 2 , 해당 페이지 리뷰수: 20\n"
     ]
    },
    {
     "data": {
      "application/vnd.jupyter.widget-view+json": {
       "model_id": "9a6493feb99e4ad5a5c6f3382085ce26",
       "version_major": 2,
       "version_minor": 0
      },
      "text/plain": [
       "  0%|          | 0/20 [00:00<?, ?it/s]"
      ]
     },
     "metadata": {},
     "output_type": "display_data"
    },
    {
     "name": "stdout",
     "output_type": "stream",
     "text": [
      "● 현재 페이지: 3 , 해당 페이지 리뷰수: 20\n"
     ]
    },
    {
     "data": {
      "application/vnd.jupyter.widget-view+json": {
       "model_id": "cdc8a6e41d4b43bf826a6e2238cb420e",
       "version_major": 2,
       "version_minor": 0
      },
      "text/plain": [
       "  0%|          | 0/20 [00:00<?, ?it/s]"
      ]
     },
     "metadata": {},
     "output_type": "display_data"
    },
    {
     "name": "stdout",
     "output_type": "stream",
     "text": [
      "● 현재 페이지: 4 , 해당 페이지 리뷰수: 20\n"
     ]
    },
    {
     "data": {
      "application/vnd.jupyter.widget-view+json": {
       "model_id": "4bc6dbce5c8a4e59b3b3509811789320",
       "version_major": 2,
       "version_minor": 0
      },
      "text/plain": [
       "  0%|          | 0/20 [00:00<?, ?it/s]"
      ]
     },
     "metadata": {},
     "output_type": "display_data"
    },
    {
     "name": "stdout",
     "output_type": "stream",
     "text": [
      "● 현재 페이지: 5 , 해당 페이지 리뷰수: 20\n"
     ]
    },
    {
     "data": {
      "application/vnd.jupyter.widget-view+json": {
       "model_id": "e2d58a1b966048d19f14f05d3dd0372a",
       "version_major": 2,
       "version_minor": 0
      },
      "text/plain": [
       "  0%|          | 0/20 [00:00<?, ?it/s]"
      ]
     },
     "metadata": {},
     "output_type": "display_data"
    },
    {
     "name": "stdout",
     "output_type": "stream",
     "text": [
      "● 현재 페이지: 6 , 해당 페이지 리뷰수: 20\n"
     ]
    },
    {
     "data": {
      "application/vnd.jupyter.widget-view+json": {
       "model_id": "2fa0a645440246e2a0afd4a1d1abf010",
       "version_major": 2,
       "version_minor": 0
      },
      "text/plain": [
       "  0%|          | 0/20 [00:00<?, ?it/s]"
      ]
     },
     "metadata": {},
     "output_type": "display_data"
    },
    {
     "name": "stdout",
     "output_type": "stream",
     "text": [
      "● 현재 페이지: 7 , 해당 페이지 리뷰수: 20\n"
     ]
    },
    {
     "data": {
      "application/vnd.jupyter.widget-view+json": {
       "model_id": "aa56e21b8eb8457ea878a94e82155c1b",
       "version_major": 2,
       "version_minor": 0
      },
      "text/plain": [
       "  0%|          | 0/20 [00:00<?, ?it/s]"
      ]
     },
     "metadata": {},
     "output_type": "display_data"
    },
    {
     "name": "stdout",
     "output_type": "stream",
     "text": [
      "● 현재 페이지: 8 , 해당 페이지 리뷰수: 20\n"
     ]
    },
    {
     "data": {
      "application/vnd.jupyter.widget-view+json": {
       "model_id": "31dab881806d4094ae1a265f76e654aa",
       "version_major": 2,
       "version_minor": 0
      },
      "text/plain": [
       "  0%|          | 0/20 [00:00<?, ?it/s]"
      ]
     },
     "metadata": {},
     "output_type": "display_data"
    },
    {
     "name": "stdout",
     "output_type": "stream",
     "text": [
      "● 현재 페이지: 9 , 해당 페이지 리뷰수: 20\n"
     ]
    },
    {
     "data": {
      "application/vnd.jupyter.widget-view+json": {
       "model_id": "f20d2093b02a41ba8dd09ac54d758e3a",
       "version_major": 2,
       "version_minor": 0
      },
      "text/plain": [
       "  0%|          | 0/20 [00:00<?, ?it/s]"
      ]
     },
     "metadata": {},
     "output_type": "display_data"
    },
    {
     "name": "stdout",
     "output_type": "stream",
     "text": [
      "● 현재 페이지: 10 , 해당 페이지 리뷰수: 20\n"
     ]
    },
    {
     "data": {
      "application/vnd.jupyter.widget-view+json": {
       "model_id": "0c4c98fefa7649fab705179f8c110fd8",
       "version_major": 2,
       "version_minor": 0
      },
      "text/plain": [
       "  0%|          | 0/20 [00:00<?, ?it/s]"
      ]
     },
     "metadata": {},
     "output_type": "display_data"
    },
    {
     "name": "stdout",
     "output_type": "stream",
     "text": [
      "● 현재 페이지: 11 , 해당 페이지 리뷰수: 20\n"
     ]
    },
    {
     "data": {
      "application/vnd.jupyter.widget-view+json": {
       "model_id": "10f27c53481640b4abfc0c5ef7ee1156",
       "version_major": 2,
       "version_minor": 0
      },
      "text/plain": [
       "  0%|          | 0/20 [00:00<?, ?it/s]"
      ]
     },
     "metadata": {},
     "output_type": "display_data"
    },
    {
     "name": "stdout",
     "output_type": "stream",
     "text": [
      "● 현재 페이지: 12 , 해당 페이지 리뷰수: 20\n"
     ]
    },
    {
     "data": {
      "application/vnd.jupyter.widget-view+json": {
       "model_id": "615f303aed8b46a6a5cce574a41fb77e",
       "version_major": 2,
       "version_minor": 0
      },
      "text/plain": [
       "  0%|          | 0/20 [00:00<?, ?it/s]"
      ]
     },
     "metadata": {},
     "output_type": "display_data"
    },
    {
     "name": "stdout",
     "output_type": "stream",
     "text": [
      "● 현재 페이지: 13 , 해당 페이지 리뷰수: 20\n"
     ]
    },
    {
     "data": {
      "application/vnd.jupyter.widget-view+json": {
       "model_id": "17bf357671ca427095ca1a25e8ad4412",
       "version_major": 2,
       "version_minor": 0
      },
      "text/plain": [
       "  0%|          | 0/20 [00:00<?, ?it/s]"
      ]
     },
     "metadata": {},
     "output_type": "display_data"
    },
    {
     "name": "stdout",
     "output_type": "stream",
     "text": [
      "● 현재 페이지: 14 , 해당 페이지 리뷰수: 20\n"
     ]
    },
    {
     "data": {
      "application/vnd.jupyter.widget-view+json": {
       "model_id": "ccfd6fe2a8bf49268df5aa94be4d48cd",
       "version_major": 2,
       "version_minor": 0
      },
      "text/plain": [
       "  0%|          | 0/20 [00:00<?, ?it/s]"
      ]
     },
     "metadata": {},
     "output_type": "display_data"
    },
    {
     "name": "stdout",
     "output_type": "stream",
     "text": [
      "● 현재 페이지: 15 , 해당 페이지 리뷰수: 20\n"
     ]
    },
    {
     "data": {
      "application/vnd.jupyter.widget-view+json": {
       "model_id": "45ad626d11ba477a97f880110839dbf1",
       "version_major": 2,
       "version_minor": 0
      },
      "text/plain": [
       "  0%|          | 0/20 [00:00<?, ?it/s]"
      ]
     },
     "metadata": {},
     "output_type": "display_data"
    },
    {
     "name": "stdout",
     "output_type": "stream",
     "text": [
      "● 현재 페이지: 16 , 해당 페이지 리뷰수: 20\n"
     ]
    },
    {
     "data": {
      "application/vnd.jupyter.widget-view+json": {
       "model_id": "31e888fbae1442aa89a38a3067349225",
       "version_major": 2,
       "version_minor": 0
      },
      "text/plain": [
       "  0%|          | 0/20 [00:00<?, ?it/s]"
      ]
     },
     "metadata": {},
     "output_type": "display_data"
    },
    {
     "name": "stdout",
     "output_type": "stream",
     "text": [
      "● 현재 페이지: 17 , 해당 페이지 리뷰수: 20\n"
     ]
    },
    {
     "data": {
      "application/vnd.jupyter.widget-view+json": {
       "model_id": "f549e152bd8f4271800ad66769d8731d",
       "version_major": 2,
       "version_minor": 0
      },
      "text/plain": [
       "  0%|          | 0/20 [00:00<?, ?it/s]"
      ]
     },
     "metadata": {},
     "output_type": "display_data"
    },
    {
     "name": "stdout",
     "output_type": "stream",
     "text": [
      "● 현재 페이지: 18 , 해당 페이지 리뷰수: 20\n"
     ]
    },
    {
     "data": {
      "application/vnd.jupyter.widget-view+json": {
       "model_id": "639dd712b5cb416ca60d6fe66b4404dd",
       "version_major": 2,
       "version_minor": 0
      },
      "text/plain": [
       "  0%|          | 0/20 [00:00<?, ?it/s]"
      ]
     },
     "metadata": {},
     "output_type": "display_data"
    },
    {
     "name": "stdout",
     "output_type": "stream",
     "text": [
      "● 현재 페이지: 19 , 해당 페이지 리뷰수: 20\n"
     ]
    },
    {
     "data": {
      "application/vnd.jupyter.widget-view+json": {
       "model_id": "b418b23d112e4e64873c82009a43dd09",
       "version_major": 2,
       "version_minor": 0
      },
      "text/plain": [
       "  0%|          | 0/20 [00:00<?, ?it/s]"
      ]
     },
     "metadata": {},
     "output_type": "display_data"
    },
    {
     "name": "stdout",
     "output_type": "stream",
     "text": [
      "● 현재 페이지: 20 , 해당 페이지 리뷰수: 20\n"
     ]
    },
    {
     "data": {
      "application/vnd.jupyter.widget-view+json": {
       "model_id": "38d408c707234c7387cef78774167a0e",
       "version_major": 2,
       "version_minor": 0
      },
      "text/plain": [
       "  0%|          | 0/20 [00:00<?, ?it/s]"
      ]
     },
     "metadata": {},
     "output_type": "display_data"
    },
    {
     "name": "stdout",
     "output_type": "stream",
     "text": [
      "● 현재 페이지: 21 , 해당 페이지 리뷰수: 20\n"
     ]
    },
    {
     "data": {
      "application/vnd.jupyter.widget-view+json": {
       "model_id": "758343e4316847179425a409de523d40",
       "version_major": 2,
       "version_minor": 0
      },
      "text/plain": [
       "  0%|          | 0/20 [00:00<?, ?it/s]"
      ]
     },
     "metadata": {},
     "output_type": "display_data"
    },
    {
     "name": "stdout",
     "output_type": "stream",
     "text": [
      "● 현재 페이지: 22 , 해당 페이지 리뷰수: 20\n"
     ]
    },
    {
     "data": {
      "application/vnd.jupyter.widget-view+json": {
       "model_id": "8f02464db562441ea755d97199fb9f73",
       "version_major": 2,
       "version_minor": 0
      },
      "text/plain": [
       "  0%|          | 0/20 [00:00<?, ?it/s]"
      ]
     },
     "metadata": {},
     "output_type": "display_data"
    },
    {
     "name": "stdout",
     "output_type": "stream",
     "text": [
      "● 현재 페이지: 23 , 해당 페이지 리뷰수: 20\n"
     ]
    },
    {
     "data": {
      "application/vnd.jupyter.widget-view+json": {
       "model_id": "305a1d0c2f39486e9f8143503099cd9c",
       "version_major": 2,
       "version_minor": 0
      },
      "text/plain": [
       "  0%|          | 0/20 [00:00<?, ?it/s]"
      ]
     },
     "metadata": {},
     "output_type": "display_data"
    },
    {
     "name": "stdout",
     "output_type": "stream",
     "text": [
      "● 현재 페이지: 24 , 해당 페이지 리뷰수: 20\n"
     ]
    },
    {
     "data": {
      "application/vnd.jupyter.widget-view+json": {
       "model_id": "e977669179b144e09cd4b4cbb9dfe7f0",
       "version_major": 2,
       "version_minor": 0
      },
      "text/plain": [
       "  0%|          | 0/20 [00:00<?, ?it/s]"
      ]
     },
     "metadata": {},
     "output_type": "display_data"
    },
    {
     "name": "stdout",
     "output_type": "stream",
     "text": [
      "● 현재 페이지: 25 , 해당 페이지 리뷰수: 20\n"
     ]
    },
    {
     "data": {
      "application/vnd.jupyter.widget-view+json": {
       "model_id": "4fa73885d8ba4350b08feeae85963d98",
       "version_major": 2,
       "version_minor": 0
      },
      "text/plain": [
       "  0%|          | 0/20 [00:00<?, ?it/s]"
      ]
     },
     "metadata": {},
     "output_type": "display_data"
    },
    {
     "name": "stdout",
     "output_type": "stream",
     "text": [
      "● 현재 페이지: 26 , 해당 페이지 리뷰수: 20\n"
     ]
    },
    {
     "data": {
      "application/vnd.jupyter.widget-view+json": {
       "model_id": "54caab54555d4b08897f505728fbf7bd",
       "version_major": 2,
       "version_minor": 0
      },
      "text/plain": [
       "  0%|          | 0/20 [00:00<?, ?it/s]"
      ]
     },
     "metadata": {},
     "output_type": "display_data"
    },
    {
     "name": "stdout",
     "output_type": "stream",
     "text": [
      "● 현재 페이지: 27 , 해당 페이지 리뷰수: 20\n"
     ]
    },
    {
     "data": {
      "application/vnd.jupyter.widget-view+json": {
       "model_id": "05168f0851c34535a276897b61a0c1a1",
       "version_major": 2,
       "version_minor": 0
      },
      "text/plain": [
       "  0%|          | 0/20 [00:00<?, ?it/s]"
      ]
     },
     "metadata": {},
     "output_type": "display_data"
    },
    {
     "name": "stdout",
     "output_type": "stream",
     "text": [
      "● 현재 페이지: 28 , 해당 페이지 리뷰수: 20\n"
     ]
    },
    {
     "data": {
      "application/vnd.jupyter.widget-view+json": {
       "model_id": "81dd35db22c84502b594ede3cd8bc2ce",
       "version_major": 2,
       "version_minor": 0
      },
      "text/plain": [
       "  0%|          | 0/20 [00:00<?, ?it/s]"
      ]
     },
     "metadata": {},
     "output_type": "display_data"
    },
    {
     "name": "stdout",
     "output_type": "stream",
     "text": [
      "● 현재 페이지: 29 , 해당 페이지 리뷰수: 20\n"
     ]
    },
    {
     "data": {
      "application/vnd.jupyter.widget-view+json": {
       "model_id": "190681be7cbe4680a078b72d24d3bf0a",
       "version_major": 2,
       "version_minor": 0
      },
      "text/plain": [
       "  0%|          | 0/20 [00:00<?, ?it/s]"
      ]
     },
     "metadata": {},
     "output_type": "display_data"
    },
    {
     "name": "stdout",
     "output_type": "stream",
     "text": [
      "● 현재 페이지: 30 , 해당 페이지 리뷰수: 20\n"
     ]
    },
    {
     "data": {
      "application/vnd.jupyter.widget-view+json": {
       "model_id": "fdc5c2d80b65483186fb08ee5ce50d87",
       "version_major": 2,
       "version_minor": 0
      },
      "text/plain": [
       "  0%|          | 0/20 [00:00<?, ?it/s]"
      ]
     },
     "metadata": {},
     "output_type": "display_data"
    },
    {
     "name": "stdout",
     "output_type": "stream",
     "text": [
      "● 현재 페이지: 31 , 해당 페이지 리뷰수: 20\n"
     ]
    },
    {
     "data": {
      "application/vnd.jupyter.widget-view+json": {
       "model_id": "3de68fb3b32a4aff89b1d941cea2227f",
       "version_major": 2,
       "version_minor": 0
      },
      "text/plain": [
       "  0%|          | 0/20 [00:00<?, ?it/s]"
      ]
     },
     "metadata": {},
     "output_type": "display_data"
    },
    {
     "name": "stdout",
     "output_type": "stream",
     "text": [
      "● 현재 페이지: 32 , 해당 페이지 리뷰수: 20\n"
     ]
    },
    {
     "data": {
      "application/vnd.jupyter.widget-view+json": {
       "model_id": "64a6e37f83d542aca6fec24ca4209535",
       "version_major": 2,
       "version_minor": 0
      },
      "text/plain": [
       "  0%|          | 0/20 [00:00<?, ?it/s]"
      ]
     },
     "metadata": {},
     "output_type": "display_data"
    },
    {
     "name": "stdout",
     "output_type": "stream",
     "text": [
      "● 현재 페이지: 33 , 해당 페이지 리뷰수: 20\n"
     ]
    },
    {
     "data": {
      "application/vnd.jupyter.widget-view+json": {
       "model_id": "7e8e79dfe1ea4fdcb0cc32c1f715adb6",
       "version_major": 2,
       "version_minor": 0
      },
      "text/plain": [
       "  0%|          | 0/20 [00:00<?, ?it/s]"
      ]
     },
     "metadata": {},
     "output_type": "display_data"
    },
    {
     "name": "stdout",
     "output_type": "stream",
     "text": [
      "● 현재 페이지: 34 , 해당 페이지 리뷰수: 20\n"
     ]
    },
    {
     "data": {
      "application/vnd.jupyter.widget-view+json": {
       "model_id": "7c3f39ec5a06450cabdb6a0ab929f648",
       "version_major": 2,
       "version_minor": 0
      },
      "text/plain": [
       "  0%|          | 0/20 [00:00<?, ?it/s]"
      ]
     },
     "metadata": {},
     "output_type": "display_data"
    },
    {
     "name": "stdout",
     "output_type": "stream",
     "text": [
      "● 현재 페이지: 35 , 해당 페이지 리뷰수: 20\n"
     ]
    },
    {
     "data": {
      "application/vnd.jupyter.widget-view+json": {
       "model_id": "d540336507c54eddaf9ccf65dbdaf15c",
       "version_major": 2,
       "version_minor": 0
      },
      "text/plain": [
       "  0%|          | 0/20 [00:00<?, ?it/s]"
      ]
     },
     "metadata": {},
     "output_type": "display_data"
    },
    {
     "name": "stdout",
     "output_type": "stream",
     "text": [
      "● 현재 페이지: 36 , 해당 페이지 리뷰수: 20\n"
     ]
    },
    {
     "data": {
      "application/vnd.jupyter.widget-view+json": {
       "model_id": "12cd4aba8089458eb11a9de55319d7ab",
       "version_major": 2,
       "version_minor": 0
      },
      "text/plain": [
       "  0%|          | 0/20 [00:00<?, ?it/s]"
      ]
     },
     "metadata": {},
     "output_type": "display_data"
    },
    {
     "name": "stdout",
     "output_type": "stream",
     "text": [
      "● 현재 페이지: 37 , 해당 페이지 리뷰수: 20\n"
     ]
    },
    {
     "data": {
      "application/vnd.jupyter.widget-view+json": {
       "model_id": "fd82f605fe154c61acdf0c98151b2107",
       "version_major": 2,
       "version_minor": 0
      },
      "text/plain": [
       "  0%|          | 0/20 [00:00<?, ?it/s]"
      ]
     },
     "metadata": {},
     "output_type": "display_data"
    },
    {
     "name": "stdout",
     "output_type": "stream",
     "text": [
      "● 현재 페이지: 38 , 해당 페이지 리뷰수: 3\n"
     ]
    },
    {
     "data": {
      "application/vnd.jupyter.widget-view+json": {
       "model_id": "ae410d5a0d9f446f87bb7df37c55036b",
       "version_major": 2,
       "version_minor": 0
      },
      "text/plain": [
       "  0%|          | 0/3 [00:00<?, ?it/s]"
      ]
     },
     "metadata": {},
     "output_type": "display_data"
    },
    {
     "ename": "ElementNotInteractableException",
     "evalue": "Message: element not interactable\n  (Session info: chrome-headless-shell=120.0.6099.129)\nStacktrace:\n0   chromedriver                        0x00000001012e04dc chromedriver + 4162780\n1   chromedriver                        0x00000001012d8664 chromedriver + 4130404\n2   chromedriver                        0x0000000100f2f9f8 chromedriver + 293368\n3   chromedriver                        0x0000000100f77870 chromedriver + 587888\n4   chromedriver                        0x0000000100f6b994 chromedriver + 539028\n5   chromedriver                        0x0000000100f6b250 chromedriver + 537168\n6   chromedriver                        0x0000000100fb5ab0 chromedriver + 842416\n7   chromedriver                        0x0000000100f696bc chromedriver + 530108\n8   chromedriver                        0x0000000100f6a930 chromedriver + 534832\n9   chromedriver                        0x00000001012a5e08 chromedriver + 3923464\n10  chromedriver                        0x00000001012aa3dc chromedriver + 3941340\n11  chromedriver                        0x000000010128e038 chromedriver + 3825720\n12  chromedriver                        0x00000001012aaf3c chromedriver + 3944252\n13  chromedriver                        0x00000001012806f4 chromedriver + 3770100\n14  chromedriver                        0x00000001012c7980 chromedriver + 4061568\n15  chromedriver                        0x00000001012c7af8 chromedriver + 4061944\n16  chromedriver                        0x00000001012d82e4 chromedriver + 4129508\n17  libsystem_pthread.dylib             0x0000000184daa034 _pthread_start + 136\n18  libsystem_pthread.dylib             0x0000000184da4e3c thread_start + 8\n",
     "output_type": "error",
     "traceback": [
      "\u001b[0;31m---------------------------------------------------------------------------\u001b[0m",
      "\u001b[0;31mElementNotInteractableException\u001b[0m           Traceback (most recent call last)",
      "Cell \u001b[0;32mIn[4], line 57\u001b[0m\n\u001b[1;32m     54\u001b[0m         image_yn\u001b[38;5;241m.\u001b[39mappend(\u001b[38;5;124m'\u001b[39m\u001b[38;5;124mN\u001b[39m\u001b[38;5;124m'\u001b[39m)\n\u001b[1;32m     56\u001b[0m \u001b[38;5;66;03m# click next button\u001b[39;00m\n\u001b[0;32m---> 57\u001b[0m \u001b[43mdriver\u001b[49m\u001b[38;5;241;43m.\u001b[39;49m\u001b[43mfind_element\u001b[49m\u001b[43m(\u001b[49m\u001b[43mBy\u001b[49m\u001b[38;5;241;43m.\u001b[39;49m\u001b[43mCSS_SELECTOR\u001b[49m\u001b[43m,\u001b[49m\u001b[43m \u001b[49m\u001b[38;5;124;43m'\u001b[39;49m\u001b[38;5;124;43m#REVIEW > div > div._2LvIMaBiIO > div._2g7PKvqCKe > div > div > a.fAUKm1ewwo._2Ar8-aEUTq\u001b[39;49m\u001b[38;5;124;43m'\u001b[39;49m\u001b[43m)\u001b[49m\u001b[38;5;241;43m.\u001b[39;49m\u001b[43mclick\u001b[49m\u001b[43m(\u001b[49m\u001b[43m)\u001b[49m\n\u001b[1;32m     58\u001b[0m time\u001b[38;5;241m.\u001b[39msleep(\u001b[38;5;241m1\u001b[39m)\n\u001b[1;32m     59\u001b[0m page \u001b[38;5;241m+\u001b[39m\u001b[38;5;241m=\u001b[39m \u001b[38;5;241m1\u001b[39m\n",
      "File \u001b[0;32m~/miniconda3/envs/crawling/lib/python3.9/site-packages/selenium/webdriver/remote/webelement.py:94\u001b[0m, in \u001b[0;36mWebElement.click\u001b[0;34m(self)\u001b[0m\n\u001b[1;32m     92\u001b[0m \u001b[38;5;28;01mdef\u001b[39;00m \u001b[38;5;21mclick\u001b[39m(\u001b[38;5;28mself\u001b[39m) \u001b[38;5;241m-\u001b[39m\u001b[38;5;241m>\u001b[39m \u001b[38;5;28;01mNone\u001b[39;00m:\n\u001b[1;32m     93\u001b[0m \u001b[38;5;250m    \u001b[39m\u001b[38;5;124;03m\"\"\"Clicks the element.\"\"\"\u001b[39;00m\n\u001b[0;32m---> 94\u001b[0m     \u001b[38;5;28;43mself\u001b[39;49m\u001b[38;5;241;43m.\u001b[39;49m\u001b[43m_execute\u001b[49m\u001b[43m(\u001b[49m\u001b[43mCommand\u001b[49m\u001b[38;5;241;43m.\u001b[39;49m\u001b[43mCLICK_ELEMENT\u001b[49m\u001b[43m)\u001b[49m\n",
      "File \u001b[0;32m~/miniconda3/envs/crawling/lib/python3.9/site-packages/selenium/webdriver/remote/webelement.py:395\u001b[0m, in \u001b[0;36mWebElement._execute\u001b[0;34m(self, command, params)\u001b[0m\n\u001b[1;32m    393\u001b[0m     params \u001b[38;5;241m=\u001b[39m {}\n\u001b[1;32m    394\u001b[0m params[\u001b[38;5;124m\"\u001b[39m\u001b[38;5;124mid\u001b[39m\u001b[38;5;124m\"\u001b[39m] \u001b[38;5;241m=\u001b[39m \u001b[38;5;28mself\u001b[39m\u001b[38;5;241m.\u001b[39m_id\n\u001b[0;32m--> 395\u001b[0m \u001b[38;5;28;01mreturn\u001b[39;00m \u001b[38;5;28;43mself\u001b[39;49m\u001b[38;5;241;43m.\u001b[39;49m\u001b[43m_parent\u001b[49m\u001b[38;5;241;43m.\u001b[39;49m\u001b[43mexecute\u001b[49m\u001b[43m(\u001b[49m\u001b[43mcommand\u001b[49m\u001b[43m,\u001b[49m\u001b[43m \u001b[49m\u001b[43mparams\u001b[49m\u001b[43m)\u001b[49m\n",
      "File \u001b[0;32m~/miniconda3/envs/crawling/lib/python3.9/site-packages/selenium/webdriver/remote/webdriver.py:348\u001b[0m, in \u001b[0;36mWebDriver.execute\u001b[0;34m(self, driver_command, params)\u001b[0m\n\u001b[1;32m    346\u001b[0m response \u001b[38;5;241m=\u001b[39m \u001b[38;5;28mself\u001b[39m\u001b[38;5;241m.\u001b[39mcommand_executor\u001b[38;5;241m.\u001b[39mexecute(driver_command, params)\n\u001b[1;32m    347\u001b[0m \u001b[38;5;28;01mif\u001b[39;00m response:\n\u001b[0;32m--> 348\u001b[0m     \u001b[38;5;28;43mself\u001b[39;49m\u001b[38;5;241;43m.\u001b[39;49m\u001b[43merror_handler\u001b[49m\u001b[38;5;241;43m.\u001b[39;49m\u001b[43mcheck_response\u001b[49m\u001b[43m(\u001b[49m\u001b[43mresponse\u001b[49m\u001b[43m)\u001b[49m\n\u001b[1;32m    349\u001b[0m     response[\u001b[38;5;124m\"\u001b[39m\u001b[38;5;124mvalue\u001b[39m\u001b[38;5;124m\"\u001b[39m] \u001b[38;5;241m=\u001b[39m \u001b[38;5;28mself\u001b[39m\u001b[38;5;241m.\u001b[39m_unwrap_value(response\u001b[38;5;241m.\u001b[39mget(\u001b[38;5;124m\"\u001b[39m\u001b[38;5;124mvalue\u001b[39m\u001b[38;5;124m\"\u001b[39m, \u001b[38;5;28;01mNone\u001b[39;00m))\n\u001b[1;32m    350\u001b[0m     \u001b[38;5;28;01mreturn\u001b[39;00m response\n",
      "File \u001b[0;32m~/miniconda3/envs/crawling/lib/python3.9/site-packages/selenium/webdriver/remote/errorhandler.py:229\u001b[0m, in \u001b[0;36mErrorHandler.check_response\u001b[0;34m(self, response)\u001b[0m\n\u001b[1;32m    227\u001b[0m         alert_text \u001b[38;5;241m=\u001b[39m value[\u001b[38;5;124m\"\u001b[39m\u001b[38;5;124malert\u001b[39m\u001b[38;5;124m\"\u001b[39m]\u001b[38;5;241m.\u001b[39mget(\u001b[38;5;124m\"\u001b[39m\u001b[38;5;124mtext\u001b[39m\u001b[38;5;124m\"\u001b[39m)\n\u001b[1;32m    228\u001b[0m     \u001b[38;5;28;01mraise\u001b[39;00m exception_class(message, screen, stacktrace, alert_text)  \u001b[38;5;66;03m# type: ignore[call-arg]  # mypy is not smart enough here\u001b[39;00m\n\u001b[0;32m--> 229\u001b[0m \u001b[38;5;28;01mraise\u001b[39;00m exception_class(message, screen, stacktrace)\n",
      "\u001b[0;31mElementNotInteractableException\u001b[0m: Message: element not interactable\n  (Session info: chrome-headless-shell=120.0.6099.129)\nStacktrace:\n0   chromedriver                        0x00000001012e04dc chromedriver + 4162780\n1   chromedriver                        0x00000001012d8664 chromedriver + 4130404\n2   chromedriver                        0x0000000100f2f9f8 chromedriver + 293368\n3   chromedriver                        0x0000000100f77870 chromedriver + 587888\n4   chromedriver                        0x0000000100f6b994 chromedriver + 539028\n5   chromedriver                        0x0000000100f6b250 chromedriver + 537168\n6   chromedriver                        0x0000000100fb5ab0 chromedriver + 842416\n7   chromedriver                        0x0000000100f696bc chromedriver + 530108\n8   chromedriver                        0x0000000100f6a930 chromedriver + 534832\n9   chromedriver                        0x00000001012a5e08 chromedriver + 3923464\n10  chromedriver                        0x00000001012aa3dc chromedriver + 3941340\n11  chromedriver                        0x000000010128e038 chromedriver + 3825720\n12  chromedriver                        0x00000001012aaf3c chromedriver + 3944252\n13  chromedriver                        0x00000001012806f4 chromedriver + 3770100\n14  chromedriver                        0x00000001012c7980 chromedriver + 4061568\n15  chromedriver                        0x00000001012c7af8 chromedriver + 4061944\n16  chromedriver                        0x00000001012d82e4 chromedriver + 4129508\n17  libsystem_pthread.dylib             0x0000000184daa034 _pthread_start + 136\n18  libsystem_pthread.dylib             0x0000000184da4e3c thread_start + 8\n"
     ]
    }
   ],
   "source": [
    "# 각 크롤링 결과 저장하기 위한 리스트 선언 \n",
    "rating = []\n",
    "user_id = []\n",
    "review_date = []\n",
    "product_info = []\n",
    "review_text = []\n",
    "recommendation_count = []\n",
    "image_yn = []\n",
    "\n",
    "# 페이지를 처음부터 끝까지, (20년도까지) 이동하면서 데이터 수집\n",
    "page = 1\n",
    "date = '2024.01.01'\n",
    "\n",
    "while (page <= max_page) & ('20.01.01' <= date) :\n",
    "    lis = driver.find_element(By.XPATH, r'//*[@id=\"REVIEW\"]/div/div[3]/div[2]/ul').find_elements(By.TAG_NAME, 'li') \n",
    "    print('● 현재 페이지:', page, ', 해당 페이지 리뷰수:', len(lis))\n",
    "\n",
    "    for i in trange(1, len(lis) + 1):\n",
    "        try: \n",
    "            rating.append(driver.find_element(By.XPATH, r'//*[@id=\"REVIEW\"]/div/div[3]/div[2]/ul/li['+str(i)+']/div/div/div/div[1]/div/div[1]/div[1]/div[2]/div[1]/em').text)\n",
    "            driver.implicitly_wait(1)\n",
    "        except:\n",
    "            rating.append(np.nan)\n",
    "        try:    \n",
    "            user_id.append(driver.find_element(By.XPATH, r'//*[@id=\"REVIEW\"]/div/div[3]/div[2]/ul/li['+str(i)+']/div/div/div/div[1]/div/div[1]/div[1]/div[2]/div[2]/strong').text)\n",
    "            driver.implicitly_wait(1)\n",
    "        except:\n",
    "            user_id.append(np.nan)\n",
    "        try: \n",
    "            date = driver.find_element(By.XPATH, r'//*[@id=\"REVIEW\"]/div/div[3]/div[2]/ul/li['+str(i)+']/div/div/div/div[1]/div/div[1]/div[1]/div[2]/div[2]/span').text\n",
    "            review_date.append(date)\n",
    "            driver.implicitly_wait(1)\n",
    "        except:\n",
    "            review_date.append(np.nan)\n",
    "        try:\n",
    "            product_info.append(driver.find_element(By.XPATH, r'//*[@id=\"REVIEW\"]/div/div[3]/div[2]/ul/li['+str(i)+']/div/div/div/div[1]/div/div[1]/div[1]/div[2]/div[3]').text)\n",
    "            driver.implicitly_wait(1)\n",
    "        except:\n",
    "            product_info.append(np.nan)\n",
    "        try: \n",
    "            review_text.append(driver.find_element(By.XPATH, r'//*[@id=\"REVIEW\"]/div/div[3]/div[2]/ul/li['+str(i)+']/div/div/div/div[1]/div/div[1]/div[2]/div').text)\n",
    "            driver.implicitly_wait(1)\n",
    "        except:\n",
    "            review_text.append(np.nan)\n",
    "        try: \n",
    "            recommendation_count.append(driver.find_element(By.XPATH, r'//*[@id=\"REVIEW\"]/div/div[3]/div[2]/ul/li['+str(i)+']/div/div/div/div[2]/div/div/div/button/span').text)\n",
    "            driver.implicitly_wait(1)\n",
    "        except:\n",
    "            recommendation_count.append(np.nan)\n",
    "        try:\n",
    "            driver.find_element(By.XPATH, r'//*[@id=\"REVIEW\"]/div/div[3]/div[2]/ul/li['+str(i)+']/div/div/div/div[1]/div/div[2]')\n",
    "            image_yn.append('Y')\n",
    "        except:\n",
    "            image_yn.append('N')\n",
    "            \n",
    "    # click next button\n",
    "    driver.find_element(By.CSS_SELECTOR, '#REVIEW > div > div._2LvIMaBiIO > div._2g7PKvqCKe > div > div > a.fAUKm1ewwo._2Ar8-aEUTq').click()\n",
    "    time.sleep(1)\n",
    "    page += 1\n",
    "\n",
    "driver.quit()\n",
    "df = pd.DataFrame(list(zip(review_date, user_id, rating, product_info, review_text, image_yn, recommendation_count)), columns = ['review_date', 'user_id', 'rating', 'product_info', 'review_text', 'image_yn', 'recommendation_count'])\n",
    "df.head()"
   ]
  },
  {
   "cell_type": "code",
   "execution_count": 8,
   "metadata": {},
   "outputs": [
    {
     "data": {
      "text/html": [
       "<div>\n",
       "<style scoped>\n",
       "    .dataframe tbody tr th:only-of-type {\n",
       "        vertical-align: middle;\n",
       "    }\n",
       "\n",
       "    .dataframe tbody tr th {\n",
       "        vertical-align: top;\n",
       "    }\n",
       "\n",
       "    .dataframe thead th {\n",
       "        text-align: right;\n",
       "    }\n",
       "</style>\n",
       "<table border=\"1\" class=\"dataframe\">\n",
       "  <thead>\n",
       "    <tr style=\"text-align: right;\">\n",
       "      <th></th>\n",
       "      <th>review_date</th>\n",
       "      <th>user_id</th>\n",
       "      <th>rating</th>\n",
       "      <th>product_info</th>\n",
       "      <th>review_text</th>\n",
       "      <th>image_yn</th>\n",
       "      <th>recommendation_count</th>\n",
       "    </tr>\n",
       "  </thead>\n",
       "  <tbody>\n",
       "    <tr>\n",
       "      <th>0</th>\n",
       "      <td>24.01.03.</td>\n",
       "      <td>ryan****</td>\n",
       "      <td>5</td>\n",
       "      <td>타입: D타입(정렬은 바르나 아치가 낮은 평발) / 사이즈(좌/우): 290mm\\n...</td>\n",
       "      <td>한달사용기하는 일이 하루에 5시간 이상 서서 일하는 업무라서 이런 저런 신발을 다 ...</td>\n",
       "      <td>Y</td>\n",
       "      <td>0</td>\n",
       "    </tr>\n",
       "    <tr>\n",
       "      <th>1</th>\n",
       "      <td>23.12.28.</td>\n",
       "      <td>hwle*****</td>\n",
       "      <td>5</td>\n",
       "      <td>타입: N타입(약한 평발) / 사이즈(좌/우): 265mm\\n평소사이즈265mm평발...</td>\n",
       "      <td>한달사용기아이 발이 약간 평발인데 운동하고 걸을 때 편하다하네요</td>\n",
       "      <td>Y</td>\n",
       "      <td>0</td>\n",
       "    </tr>\n",
       "    <tr>\n",
       "      <th>2</th>\n",
       "      <td>23.12.28.</td>\n",
       "      <td>ryan****</td>\n",
       "      <td>5</td>\n",
       "      <td>타입: D타입(정렬은 바르나 아치가 낮은 평발) / 사이즈(좌/우): 290mm\\n...</td>\n",
       "      <td>재구매발바닥이 3년정도 아팠습니다.\\n정형외과를 다니면서 체외 충격파만 50회 이상...</td>\n",
       "      <td>Y</td>\n",
       "      <td>1</td>\n",
       "    </tr>\n",
       "    <tr>\n",
       "      <th>3</th>\n",
       "      <td>23.12.28.</td>\n",
       "      <td>ysk6***</td>\n",
       "      <td>5</td>\n",
       "      <td>타입: B타입(심한 평발) / 사이즈(좌/우): 245mm\\n평소사이즈250mm평발...</td>\n",
       "      <td>한달사용기쓰기 전보다 확실히 발이 편해요</td>\n",
       "      <td>Y</td>\n",
       "      <td>1</td>\n",
       "    </tr>\n",
       "    <tr>\n",
       "      <th>4</th>\n",
       "      <td>23.12.26.</td>\n",
       "      <td>6317***</td>\n",
       "      <td>3</td>\n",
       "      <td>타입: D타입(정렬은 바르나 아치가 낮은 평발) / 사이즈(좌/우): 265mm\\n...</td>\n",
       "      <td>만족하고 잘 사용하고있습니다~</td>\n",
       "      <td>Y</td>\n",
       "      <td>0</td>\n",
       "    </tr>\n",
       "  </tbody>\n",
       "</table>\n",
       "</div>"
      ],
      "text/plain": [
       "  review_date    user_id rating  \\\n",
       "0   24.01.03.   ryan****      5   \n",
       "1   23.12.28.  hwle*****      5   \n",
       "2   23.12.28.   ryan****      5   \n",
       "3   23.12.28.    ysk6***      5   \n",
       "4   23.12.26.    6317***      3   \n",
       "\n",
       "                                        product_info  \\\n",
       "0  타입: D타입(정렬은 바르나 아치가 낮은 평발) / 사이즈(좌/우): 290mm\\n...   \n",
       "1  타입: N타입(약한 평발) / 사이즈(좌/우): 265mm\\n평소사이즈265mm평발...   \n",
       "2  타입: D타입(정렬은 바르나 아치가 낮은 평발) / 사이즈(좌/우): 290mm\\n...   \n",
       "3  타입: B타입(심한 평발) / 사이즈(좌/우): 245mm\\n평소사이즈250mm평발...   \n",
       "4  타입: D타입(정렬은 바르나 아치가 낮은 평발) / 사이즈(좌/우): 265mm\\n...   \n",
       "\n",
       "                                         review_text image_yn  \\\n",
       "0  한달사용기하는 일이 하루에 5시간 이상 서서 일하는 업무라서 이런 저런 신발을 다 ...        Y   \n",
       "1                한달사용기아이 발이 약간 평발인데 운동하고 걸을 때 편하다하네요        Y   \n",
       "2  재구매발바닥이 3년정도 아팠습니다.\\n정형외과를 다니면서 체외 충격파만 50회 이상...        Y   \n",
       "3                             한달사용기쓰기 전보다 확실히 발이 편해요        Y   \n",
       "4                                   만족하고 잘 사용하고있습니다~        Y   \n",
       "\n",
       "  recommendation_count  \n",
       "0                    0  \n",
       "1                    0  \n",
       "2                    1  \n",
       "3                    1  \n",
       "4                    0  "
      ]
     },
     "execution_count": 8,
     "metadata": {},
     "output_type": "execute_result"
    }
   ],
   "source": [
    "df = pd.DataFrame(list(zip(review_date, user_id, rating, product_info, review_text, image_yn, recommendation_count)), columns = ['review_date', 'user_id', 'rating', 'product_info', 'review_text', 'image_yn', 'recommendation_count'])\n",
    "df.head()"
   ]
  },
  {
   "cell_type": "code",
   "execution_count": 9,
   "metadata": {},
   "outputs": [],
   "source": [
    "df.to_excel(\"data/Docsole.xlsx\", index=False)"
   ]
  },
  {
   "cell_type": "code",
   "execution_count": null,
   "metadata": {},
   "outputs": [],
   "source": [
    "page"
   ]
  },
  {
   "cell_type": "code",
   "execution_count": null,
   "metadata": {},
   "outputs": [],
   "source": [
    "max_page"
   ]
  },
  {
   "cell_type": "code",
   "execution_count": null,
   "metadata": {},
   "outputs": [],
   "source": [
    "len(review_date)"
   ]
  },
  {
   "cell_type": "code",
   "execution_count": null,
   "metadata": {},
   "outputs": [],
   "source": [
    "df = pd.DataFrame(list(zip(review_date, user_id, rating, product_info, review_text, image_yn, recommendation_count)), columns = ['review_date', 'user_id', 'rating', 'product_info', 'review_text', 'image_yn', 'recommendation_count'])"
   ]
  },
  {
   "cell_type": "code",
   "execution_count": null,
   "metadata": {},
   "outputs": [],
   "source": []
  },
  {
   "cell_type": "code",
   "execution_count": null,
   "metadata": {},
   "outputs": [],
   "source": [
    "df = pd.read_excel('data/Xsole.xlsx')\n",
    "df.head()"
   ]
  },
  {
   "cell_type": "code",
   "execution_count": null,
   "metadata": {},
   "outputs": [],
   "source": [
    "df.info()"
   ]
  },
  {
   "cell_type": "code",
   "execution_count": null,
   "metadata": {},
   "outputs": [],
   "source": [
    "df.tail()"
   ]
  }
 ],
 "metadata": {
  "kernelspec": {
   "display_name": "crawling_review",
   "language": "python",
   "name": "python3"
  },
  "language_info": {
   "codemirror_mode": {
    "name": "ipython",
    "version": 3
   },
   "file_extension": ".py",
   "mimetype": "text/x-python",
   "name": "python",
   "nbconvert_exporter": "python",
   "pygments_lexer": "ipython3",
   "version": "3.9.18"
  }
 },
 "nbformat": 4,
 "nbformat_minor": 2
}
