{
 "cells": [
  {
   "cell_type": "code",
   "execution_count": 353,
   "metadata": {},
   "outputs": [],
   "source": [
    "import numpy as np\n",
    "import pandas as pd\n",
    "import re\n",
    "\n",
    "class DataPreprocessor:\n",
    "    def __init__(self, df):\n",
    "        self.df = df\n",
    "\n",
    "    def split_product_info(self, brand_name):\n",
    "        \"\"\"브랜드 이름에 따라 제품 정보 분리 및 처리\"\"\"\n",
    "        if brand_name == 'FootHealth':\n",
    "            self._process_foot_health()\n",
    "        elif brand_name == 'RedDr':\n",
    "            self._process_red_dr()\n",
    "        elif brand_name == 'Xsole':\n",
    "            self._process_xsole()\n",
    "        elif brand_name == 'WalkerMaster':\n",
    "            self._process_walker_master()\n",
    "        elif brand_name == 'FootMedical':\n",
    "            self._process_foot_medical()\n",
    "        elif brand_name == 'Forlax':\n",
    "            self._process_forlax()\n",
    "        elif brand_name == 'Sidas':\n",
    "            self._process_sidas()\n",
    "        elif brand_name == 'Docsole':\n",
    "            self._process_docsole()\n",
    "    '''\n",
    "    def _process_foot_health(self):\n",
    "        def parse_info(row):\n",
    "            splited_txt = row.split('\\n')\n",
    "            product_info = splited_txt[0].split(' / ') if len(splited_txt) > 1 else [np.nan, np.nan, np.nan]\n",
    "            user_comment = splited_txt[1] if len(splited_txt) == 2 else splited_txt[0]\n",
    "\n",
    "            product_step = product_info[0].split(': ')[-1] if len(product_info) > 0 else np.nan\n",
    "            product_name = product_info[1].split(': ')[-1] if len(product_info) > 1 else np.nan\n",
    "            product_size = product_info[2].split(': ')[-1] if len(product_info) > 2 else np.nan\n",
    "\n",
    "            return pd.Series([product_step, product_name, product_size, user_comment])\n",
    "\n",
    "        self.df[['product_step', 'product_name', 'product_size', 'user_comment']] = self.df['product_info'].apply(parse_info)\n",
    "    '''\n",
    "\n",
    "    def _process_foot_health(self):\n",
    "        # FootHealth 브랜드의 처리 로직\n",
    "        product_step = []\n",
    "        product_name = []\n",
    "        product_size = []\n",
    "        user_comment = []\n",
    "\n",
    "        for txt in self.df.product_info:\n",
    "            splited_txt = txt.split('\\n')\n",
    "            if len(splited_txt) == 2: # 제품정보 + 사용자 코멘트 둘 다 있는 경우\n",
    "                product = splited_txt[0].split(' / ')\n",
    "                product_step.append(product[0].split(': ')[-1])\n",
    "                product_name.append(product[1].split(': ')[-1])\n",
    "                try: # 사이즈를 입력하지 않은 경우 대비\n",
    "                    product_size.append(product[2].split(': ')[-1])\n",
    "                except:\n",
    "                    product_size.append(np.nan)\n",
    "\n",
    "                user_comment.append(splited_txt[1])\n",
    "            else: # 사용자 고멘트만 있는 경우\n",
    "                product_step.append(np.nan)\n",
    "                product_name.append(np.nan)\n",
    "                product_size.append(np.nan)\n",
    "                user_comment.append(splited_txt[0])\n",
    "            \n",
    "        self.df['product_step'] = product_step\n",
    "        self.df['product_name'] = product_name\n",
    "        self.df['product_size'] = product_size\n",
    "        self.df['user_comment'] = user_comment\n",
    "\n",
    "    def _process_red_dr(self):\n",
    "        # RedDr 브랜드의 처리 로직\n",
    "        def parse_info(row):\n",
    "            splited_txt = row.split('\\n')\n",
    "            product_info = re.split('[(): ]', splited_txt[0]) if len(splited_txt) > 1 else [np.nan]\n",
    "            user_comment = splited_txt[1] if len(splited_txt) == 2 else splited_txt[0]\n",
    "\n",
    "            if len(splited_txt) == 2:\n",
    "                name = product_info[2] if len(product_info) > 3 else np.nan\n",
    "                size = product_info[4] if len(product_info) > 5 else product_info[2]\n",
    "            else:\n",
    "                size = product_info[2] if len(splited_txt) > 1 else np.nan\n",
    "                name = np.nan\n",
    "\n",
    "            return pd.Series([name, size, user_comment])\n",
    "\n",
    "        self.df[['product_name', 'product_size', 'user_comment']] = self.df['product_info'].apply(parse_info)\n",
    "\n",
    "    def _process_xsole(self):\n",
    "        # Xsole 브랜드의 처리 로직\n",
    "        def parse_product_info(row):\n",
    "            # 제품, 컬러, 사이즈를 추출하기 위한 정규 표현식 정의\n",
    "            product_pattern = r'제품: ([^\\n/]+)'\n",
    "            color_pattern = r'컬러: ([^\\n/]+)'\n",
    "            size_pattern = r'사이즈: ([^\\n/]+)'\n",
    "\n",
    "            # 제품, 컬러, 사이즈 정보 추출\n",
    "            product = re.search(product_pattern, row)\n",
    "            color = re.search(color_pattern, row)\n",
    "            size = re.search(size_pattern, row)\n",
    "\n",
    "            # \\n 뒤의 문자열 추출\n",
    "            user_comment = row.split('\\n')[-1] if '\\n' in row else ''\n",
    "\n",
    "            # 각 정보가 존재하면 해당 값을, 아니면 NaN을 반환\n",
    "            product_name = product.group(1) if product else np.nan\n",
    "            product_color = color.group(1) if color else np.nan\n",
    "            product_size = size.group(1) if size else np.nan\n",
    "\n",
    "            return pd.Series([product_name, product_color, product_size, user_comment])\n",
    "\n",
    "        # 원본 DataFrame의 'product_info' 열을 사용하여 새로운 컬럼들을 생성\n",
    "        self.df[['product_name', 'product_color', 'product_size', 'user_comment']] = self.df['product_info'].apply(parse_product_info)\n",
    "\n",
    "    def _process_walker_master(self):\n",
    "        # WalkerMaster 브랜드의 처리 로직\n",
    "        def parse_info(row):\n",
    "            splited_txt = row.split('\\n')\n",
    "            product_info = splited_txt[0].split(' / ') if len(splited_txt) > 1 else [splited_txt[0].split()[-1]]\n",
    "            user_comment = splited_txt[1] if len(splited_txt) == 2 else splited_txt[0]\n",
    "\n",
    "            if len(product_info) >= 2:\n",
    "                if product_info[0].startswith('사이즈'):\n",
    "                    size = re.split('[: mm]', product_info[0])[-2]\n",
    "                    color = re.split(' ', product_info[1])[-1]\n",
    "                else:\n",
    "                    size = product_info[1].split()[-1].replace('mm', '')[:7]\n",
    "                    color = product_info[0].split()[-1].replace('mm', '')\n",
    "            elif product_info[0].startswith('두족'):\n",
    "                size = product_info[0].split()[-1].replace('mm', '')[-7:]\n",
    "                color = product_info[0].split()[-1].replace('mm', '')[:-7]\n",
    "            else:\n",
    "                size = np.nan\n",
    "                color = np.nan\n",
    "\n",
    "            return pd.Series([color, size, user_comment])\n",
    "\n",
    "        self.df[['product_color', 'product_size', 'user_comment']] = self.df['product_info'].apply(parse_info)\n",
    "        \n",
    "    def _process_foot_medical(self):\n",
    "        # FootMedical 브랜드의 처리 로직을 간소화한 버전\n",
    "        def parse_info(row):\n",
    "            splited_txt = row.split('\\n')\n",
    "            product_info = splited_txt[0].split(' / ') if len(splited_txt) > 1 else [np.nan]\n",
    "            user_comment = splited_txt[1] if len(splited_txt) == 2 else splited_txt[0]\n",
    "\n",
    "            if len(product_info) == 2:\n",
    "                size = product_info[1].split()[-1][:3]\n",
    "                name_parts = re.split('[ |(|)]', product_info[0])\n",
    "                name = name_parts[1] if len(name_parts) > 1 else np.nan\n",
    "                color = name_parts[2] if len(name_parts) > 2 else np.nan\n",
    "            else:\n",
    "                size = splited_txt[0].split()[-1][:3] if len(splited_txt) == 1 else np.nan\n",
    "                name = np.nan\n",
    "                color = np.nan\n",
    "\n",
    "            return pd.Series([name, color, size, user_comment])\n",
    "\n",
    "        self.df[['product_name', 'product_color', 'product_size', 'user_comment']] = self.df['product_info'].apply(parse_info)\n",
    "\n",
    "    def _process_forlax(self):\n",
    "        # Forlax 브랜드의 처리 로직\n",
    "        product_name = []\n",
    "        # product_color = []\n",
    "        product_size = []\n",
    "        user_comment = []\n",
    "\n",
    "        for txt in self.df.product_info:\n",
    "            splited_txt = txt.split('\\n')\n",
    "            if len(splited_txt) == 2: # 제품정보 + 사용자 코멘트 둘 다 있는 경우\n",
    "                try:\n",
    "                    product = splited_txt[0].split(' / ')\n",
    "                    splited_product = product[0].replace(' ', '').replace('1.', ' ').replace('2.', ' ').replace('3.', ' ').replace('4.', ' ').replace('5.', ' ').replace('8.', ' ').replace('mm', '').replace('XS', '(').replace('S', '(').replace('M', '(').replace('L', '(').replace('XL', '(')\n",
    "                    splited_product = re.split('[:.() ]', splited_product)\n",
    "                    product_list = [item for item in splited_product if item != '']  # 빈 문자열 요소 제거\n",
    "                    product_list = [item for item in product_list if item != '0']\n",
    "                    product_size.append(product_list[2])\n",
    "                    product_name.append(product_list[1])\n",
    "                    user_comment.append(splited_txt[1])\n",
    "                except:\n",
    "                    product_name.append(np.nan)\n",
    "                    product_size.append(np.nan)\n",
    "                    user_comment.append(splited_txt[1])\n",
    "\n",
    "            else: # 사용자 고멘트만 있는 경우\n",
    "                # product_color.append(np.nan)\n",
    "                product_name.append(np.nan)\n",
    "                product_size.append(np.nan)\n",
    "                user_comment.append(splited_txt[0])\n",
    "\n",
    "        self.df['product_name'] = product_name\n",
    "        self.df['product_size'] = product_size\n",
    "        self.df['user_comment'] = user_comment\n",
    "\n",
    "    def _process_sidas(self):\n",
    "        def parse_info(row):\n",
    "            splited_txt = row.split('\\n')\n",
    "            product_info = re.split(' / ', splited_txt[0]) if len(splited_txt) > 1 else [np.nan]\n",
    "            user_comment = splited_txt[1] if len(splited_txt) == 2 else splited_txt[0]\n",
    "\n",
    "            step = product_info[0].split()[-1]\n",
    "            size = re.split('[()]', product_info[1])[-2][:-2]\n",
    "\n",
    "            return pd.Series([step, size, user_comment])\n",
    "\n",
    "        self.df[['product_name', 'product_size', 'user_comment']] = self.df['product_info'].apply(parse_info)\n",
    "    \n",
    "    def _process_docsole(self):\n",
    "        def parse_info(row):\n",
    "            splited_txt = row.split('\\n')\n",
    "            product_info = re.split(' / ', splited_txt[0]) if len(splited_txt) > 1 else [np.nan]\n",
    "            user_comment = splited_txt[1] if len(splited_txt) == 2 else splited_txt[0]\n",
    "\n",
    "            if product_info[0].startswith('타입'):\n",
    "                step = product_info[0].split(': ')[-1]\n",
    "                size = product_info[1].split()[-1][:-2]\n",
    "                name = '양발 사이즈 통일'\n",
    "            else:   \n",
    "                step = 'N타입(약한 평발)'\n",
    "                size = product_info[1].split()[-1][:-2] # 우발 사이즈\n",
    "                name = '양발 사이즈 선택'\n",
    "\n",
    "            return pd.Series([step, name, size, user_comment])\n",
    "\n",
    "        self.df[['product_step', 'product_name', 'product_size', 'user_comment']] = self.df['product_info'].apply(parse_info)\n",
    "       \n",
    "\n",
    "    def initialize_columns(self):\n",
    "        self.df['usual_size_mm'] = np.nan\n",
    "        self.df['narrow_feet'] = False\n",
    "        self.df['flat_feet'] = False\n",
    "        self.df['sweaty_feet'] = False\n",
    "        self.df['finish_quality'] = np.nan\n",
    "        self.df['size_fit'] = np.nan\n",
    "\n",
    "    def process_comment(self, comment):\n",
    "        # 기존의 'process_comment' 함수 내용을 여기에 포함\n",
    "        sizes = ['210', '215', '220', '225', '230', '235', '240', '245', '250', '255', '260', '265', '270', '275', '280', '285', '290', '295']\n",
    "        finish_qualities = ['깔끔해', '아주 깔끔해', '엉성해']\n",
    "        size_fits = ['정', '생각보다 커', '작아']\n",
    "\n",
    "        splited_comment = re.split(\"평소사이즈|mm|발|마감처리|예요|요|사이즈\", comment)\n",
    "        filtered_list = [item for item in splited_comment if item != '']  # 빈 문자열 요소 제거\n",
    "\n",
    "        result = {}\n",
    "        for e in filtered_list:\n",
    "            if e in sizes:\n",
    "                result['usual_size_mm'] = e\n",
    "            elif e == '칼':\n",
    "                result['narrow_feet'] = True\n",
    "            elif e == '평':\n",
    "                result['flat_feet'] = True\n",
    "            elif e == '땀 많은 ':\n",
    "                result['sweaty_feet'] = True\n",
    "            elif e in finish_qualities:\n",
    "                result['finish_quality'] = e\n",
    "            elif e in size_fits:\n",
    "                result['size_fit'] = e\n",
    "        return pd.Series(result)\n",
    "\n",
    "    def apply_process_comment(self):\n",
    "        self.df.update(self.df['user_comment'].apply(self.process_comment))\n",
    "        # 'finish_quality' 컬럼의 값 변경\n",
    "        self.df['finish_quality'] = self.df['finish_quality'].replace({\n",
    "                                                                        '아주 깔끔해': 'Very Good',\n",
    "                                                                        '깔끔해': 'Good',\n",
    "                                                                        '엉성해': 'Poor'\n",
    "                                                                    })\n",
    "\n",
    "        # 'size_fit' 컬럼의 값 변경\n",
    "        self.df['size_fit'] = self.df['size_fit'].replace({\n",
    "                                                            '정': 'Regular',\n",
    "                                                            '생각보다 커': 'Larger than Expected',\n",
    "                                                            '작아': 'Smaller than Expected'\n",
    "                                                        })\n",
    "\n",
    "    def find_review_type(self):\n",
    "        # 기존의 prefix 제거 코드를 여기에 포함\n",
    "        # NaN 초기화\n",
    "        self.df['is_best'] = False\n",
    "        self.df['is_one_month'] = False\n",
    "        self.df['is_repurchase'] = False\n",
    "\n",
    "        # 세 가지 종류의 리뷰 유형은 중복 가능, 단어는 '한달사용기' > 'BEST' > '재구매' 순서로 나타남.\n",
    "        # '한달사용기' prefix 확인 후 해당 단어 제거\n",
    "        one_month_mask = self.df['review_text'].str.startswith('한달사용기')\n",
    "        self.df.loc[one_month_mask, 'is_one_month'] = True\n",
    "        self.df.loc[one_month_mask, 'review_text'] = self.df.loc[one_month_mask, 'review_text'].str.replace('한달사용기', '', 1)\n",
    "\n",
    "        # 'BEST' prefix 확인 후 해당 단어 제거\n",
    "        best_mask = self.df['review_text'].str.startswith('BEST')\n",
    "        self.df.loc[best_mask, 'is_best'] = True\n",
    "        self.df.loc[one_month_mask, 'review_text'] = self.df.loc[one_month_mask, 'review_text'].str.replace('BEST', '', 1)\n",
    "\n",
    "        # Check for '재구매' prefix and update columns\n",
    "        repurchase_mask = self.df['review_text'].str.startswith('재구매')\n",
    "        self.df.loc[repurchase_mask, 'is_repurchase'] = True\n",
    "        self.df.loc[one_month_mask, 'review_text'] = self.df.loc[one_month_mask, 'review_text'].str.replace('재구매', '', 1)\n",
    "\n",
    "    def drop_columns(self):\n",
    "        self.df = self.df.drop(['product_info', 'user_comment'], axis=1)\n",
    "\n",
    "    def preprocess(self, brand_name):\n",
    "        self.split_product_info(brand_name)\n",
    "        self.initialize_columns()\n",
    "        self.apply_process_comment()\n",
    "        self.find_review_type()\n",
    "        self.drop_columns()\n"
   ]
  },
  {
   "cell_type": "markdown",
   "metadata": {},
   "source": [
    "## FootHealth"
   ]
  },
  {
   "cell_type": "code",
   "execution_count": 269,
   "metadata": {},
   "outputs": [],
   "source": [
    "# FootHealth\n",
    "df = pd.read_excel('data/FootHealth.xlsx')\n",
    "preprocessor = DataPreprocessor(df)\n",
    "preprocessor.preprocess(brand_name=\"FootHealth\")"
   ]
  },
  {
   "cell_type": "code",
   "execution_count": 271,
   "metadata": {},
   "outputs": [
    {
     "data": {
      "text/plain": [
       "Index(['review_date', 'user_id', 'rating', 'product_info', 'review_text',\n",
       "       'image_yn', 'recommendation_count', 'product_step', 'product_name',\n",
       "       'product_size', 'user_comment', 'usual_size_mm', 'narrow_feet',\n",
       "       'flat_feet', 'sweaty_feet', 'finish_quality', 'size_fit', 'is_best',\n",
       "       'is_one_month', 'is_repurchase'],\n",
       "      dtype='object')"
      ]
     },
     "execution_count": 271,
     "metadata": {},
     "output_type": "execute_result"
    }
   ],
   "source": [
    "df.columns"
   ]
  },
  {
   "cell_type": "code",
   "execution_count": 272,
   "metadata": {},
   "outputs": [
    {
     "name": "stdout",
     "output_type": "stream",
     "text": [
      "['2단계' '3단계' '1단계' nan]\n",
      "['액티브(DFH801)' '액티런(DFH803)' '오소틱(DFH902)' '다이나믹(DFH802)' '컴포터(DFH703)'\n",
      " '메디워크(DFH903)' '트라이앵글(DFH701)' '메디칼(DFH901)' '서포터(DFH702)' nan]\n",
      "['270~280' '225~235' '210~220' '255~265' '240~250' '285~295' '300~310' nan\n",
      " '225']\n"
     ]
    }
   ],
   "source": [
    "print(df.product_step.unique())\n",
    "print(df.product_name.unique())\n",
    "print(df.product_size.unique())"
   ]
  },
  {
   "cell_type": "code",
   "execution_count": 273,
   "metadata": {},
   "outputs": [],
   "source": [
    "df.to_excel('data/prep_data/prep_FootHealth.xlsx', index=False)"
   ]
  },
  {
   "cell_type": "markdown",
   "metadata": {},
   "source": [
    "## WalkerMaster"
   ]
  },
  {
   "cell_type": "code",
   "execution_count": 354,
   "metadata": {},
   "outputs": [
    {
     "data": {
      "text/plain": [
       "(5700, 7)"
      ]
     },
     "execution_count": 354,
     "metadata": {},
     "output_type": "execute_result"
    }
   ],
   "source": [
    "df1 = pd.read_excel('data/raw/기성일.xlsx')\n",
    "df2 = pd.read_excel('data/raw/WalkerMaster.xlsx')\n",
    "df = pd.concat([df1, df2]).reset_index(drop=True)\n",
    "df.shape"
   ]
  },
  {
   "cell_type": "code",
   "execution_count": 355,
   "metadata": {},
   "outputs": [],
   "source": [
    "preprocessor = DataPreprocessor(df)\n",
    "preprocessor.preprocess(brand_name=\"WalkerMaster\")"
   ]
  },
  {
   "cell_type": "code",
   "execution_count": 356,
   "metadata": {},
   "outputs": [
    {
     "data": {
      "text/plain": [
       "Index(['review_date', 'user_id', 'rating', 'product_info', 'review_text',\n",
       "       'image_yn', 'recommendation_count', 'product_color', 'product_size',\n",
       "       'user_comment', 'usual_size_mm', 'narrow_feet', 'flat_feet',\n",
       "       'sweaty_feet', 'finish_quality', 'size_fit', 'is_best', 'is_one_month',\n",
       "       'is_repurchase'],\n",
       "      dtype='object')"
      ]
     },
     "execution_count": 356,
     "metadata": {},
     "output_type": "execute_result"
    }
   ],
   "source": [
    "df.columns"
   ]
  },
  {
   "cell_type": "code",
   "execution_count": 357,
   "metadata": {},
   "outputs": [
    {
     "name": "stdout",
     "output_type": "stream",
     "text": [
      "['블랙' '그레이' '오렌지' '밀리터리' '블루' '핑크' '레드' nan '카오스(블랙)' '스카이(블루)' '더스트(그레이)'\n",
      " '루비(레드)' '메이플(오렌지)']\n",
      "['270~275' '260~265' '250~255' '280~285' '230~235' '240~245' '290~295'\n",
      " '220~225' nan '' '230-235' '260-265' '240-245' '250-255' '270-275'\n",
      " '290-295' '280-285' '220-225']\n"
     ]
    }
   ],
   "source": [
    "print(df.product_color.unique())\n",
    "# print(df.product_name.unique())\n",
    "print(df.product_size.unique())"
   ]
  },
  {
   "cell_type": "code",
   "execution_count": 359,
   "metadata": {},
   "outputs": [],
   "source": [
    "df.to_excel('data/prep_data/prep_WalkerMaster.xlsx', index=False)"
   ]
  },
  {
   "cell_type": "markdown",
   "metadata": {},
   "source": [
    "## FootMedical"
   ]
  },
  {
   "cell_type": "code",
   "execution_count": 338,
   "metadata": {},
   "outputs": [],
   "source": [
    "# FootHealth\n",
    "df = pd.read_excel('data/FootMedical.xlsx')\n",
    "preprocessor = DataPreprocessor(df)\n",
    "preprocessor.preprocess(brand_name=\"FootMedical\")"
   ]
  },
  {
   "cell_type": "code",
   "execution_count": 339,
   "metadata": {},
   "outputs": [
    {
     "data": {
      "text/plain": [
       "Index(['review_date', 'user_id', 'rating', 'product_info', 'review_text',\n",
       "       'image_yn', 'recommendation_count', 'product_name', 'product_color',\n",
       "       'product_size', 'user_comment', 'usual_size_mm', 'narrow_feet',\n",
       "       'flat_feet', 'sweaty_feet', 'finish_quality', 'size_fit', 'is_best',\n",
       "       'is_one_month', 'is_repurchase'],\n",
       "      dtype='object')"
      ]
     },
     "execution_count": 339,
     "metadata": {},
     "output_type": "execute_result"
    }
   ],
   "source": [
    "df.columns"
   ]
  },
  {
   "cell_type": "code",
   "execution_count": 340,
   "metadata": {},
   "outputs": [
    {
     "name": "stdout",
     "output_type": "stream",
     "text": [
      "['회색' '크림' nan]\n",
      "['원스텝' '사이언스' nan]\n",
      "['265' '250' '270' '240' '235' '230' '255' '245' '260' '275' '280' '225'\n",
      " '285' '290' '210' '220' '215' '노랑' '마감처' '깔끔해' nan '커요']\n"
     ]
    }
   ],
   "source": [
    "print(df.product_color.unique())\n",
    "print(df.product_name.unique())\n",
    "print(df.product_size.unique())"
   ]
  },
  {
   "cell_type": "code",
   "execution_count": 341,
   "metadata": {},
   "outputs": [],
   "source": [
    "df.to_excel('data/prep_data/prep_FootMedical.xlsx', index=False)"
   ]
  },
  {
   "cell_type": "markdown",
   "metadata": {},
   "source": [
    "## Forlax"
   ]
  },
  {
   "cell_type": "code",
   "execution_count": 328,
   "metadata": {},
   "outputs": [],
   "source": [
    "df = pd.read_excel('data/Forlax.xlsx')\n",
    "preprocessor = DataPreprocessor(df)\n",
    "preprocessor.preprocess(brand_name=\"Forlax\")"
   ]
  },
  {
   "cell_type": "code",
   "execution_count": 329,
   "metadata": {},
   "outputs": [
    {
     "data": {
      "text/plain": [
       "Index(['review_date', 'user_id', 'rating', 'product_info', 'review_text',\n",
       "       'image_yn', 'recommendation_count', 'product_name', 'product_size',\n",
       "       'user_comment', 'usual_size_mm', 'narrow_feet', 'flat_feet',\n",
       "       'sweaty_feet', 'finish_quality', 'size_fit', 'is_best', 'is_one_month',\n",
       "       'is_repurchase'],\n",
       "      dtype='object')"
      ]
     },
     "execution_count": 329,
     "metadata": {},
     "output_type": "execute_result"
    }
   ],
   "source": [
    "df.columns"
   ]
  },
  {
   "cell_type": "code",
   "execution_count": 330,
   "metadata": {},
   "outputs": [
    {
     "name": "stdout",
     "output_type": "stream",
     "text": [
      "['하이볼륨' '뉴아치서포트' '베이직' '소프트젤' '솔리드젤' '하이볼륨마그네틱' '아치서포트프로' '소프트젤X' '솔리드젤X'\n",
      " nan '하이볼륨자석깔창' '자석깔창' '★풋롤러FOOTRO' '아치서포트' '기능성' '소프트']\n",
      "['245~270' '275~300' '280~295' '220~240' '235~270' '230~255' '260~275'\n",
      " '260~285' '220~235' '240~255' '290~315' nan 'ER★']\n"
     ]
    }
   ],
   "source": [
    "# print(df.product_color.unique())\n",
    "print(df.product_name.unique())\n",
    "print(df.product_size.unique())"
   ]
  },
  {
   "cell_type": "code",
   "execution_count": 331,
   "metadata": {},
   "outputs": [],
   "source": [
    "df.to_excel('data/prep_data/prep_Forlax.xlsx', index=False)"
   ]
  },
  {
   "cell_type": "markdown",
   "metadata": {},
   "source": [
    "## RedDr"
   ]
  },
  {
   "cell_type": "code",
   "execution_count": 319,
   "metadata": {},
   "outputs": [],
   "source": [
    "df = pd.read_excel('data/RedDr.xlsx')\n",
    "preprocessor = DataPreprocessor(df)\n",
    "preprocessor.preprocess(brand_name=\"RedDr\")\n",
    "# df.head()"
   ]
  },
  {
   "cell_type": "code",
   "execution_count": 320,
   "metadata": {},
   "outputs": [
    {
     "data": {
      "text/plain": [
       "Index(['review_date', 'user_id', 'rating', 'product_info', 'review_text',\n",
       "       'image_yn', 'recommendation_count', 'product_name', 'product_size',\n",
       "       'user_comment', 'usual_size_mm', 'narrow_feet', 'flat_feet',\n",
       "       'sweaty_feet', 'finish_quality', 'size_fit', 'is_best', 'is_one_month',\n",
       "       'is_repurchase'],\n",
       "      dtype='object')"
      ]
     },
     "execution_count": 320,
     "metadata": {},
     "output_type": "execute_result"
    }
   ],
   "source": [
    "df.columns"
   ]
  },
  {
   "cell_type": "code",
   "execution_count": 321,
   "metadata": {},
   "outputs": [
    {
     "name": "stdout",
     "output_type": "stream",
     "text": [
      "['안티바이러스' nan '액티비티' 'S' 'M' 'L']\n",
      "['270~285' '230~245' '250~265' '210~225' nan 'M' 'L' 'S']\n"
     ]
    }
   ],
   "source": [
    "# print(df.product_color.unique())\n",
    "print(df.product_name.unique())\n",
    "print(df.product_size.unique())"
   ]
  },
  {
   "cell_type": "code",
   "execution_count": 323,
   "metadata": {},
   "outputs": [],
   "source": [
    "df.to_excel('data/prep_data/prep_RedDr.xlsx', index=False)"
   ]
  },
  {
   "cell_type": "markdown",
   "metadata": {},
   "source": [
    "## Xsole"
   ]
  },
  {
   "cell_type": "code",
   "execution_count": 324,
   "metadata": {},
   "outputs": [],
   "source": [
    "df = pd.read_excel('data/Xsole.xlsx')\n",
    "preprocessor = DataPreprocessor(df)\n",
    "preprocessor.preprocess(brand_name=\"Xsole\")\n",
    "# df.head()"
   ]
  },
  {
   "cell_type": "code",
   "execution_count": 325,
   "metadata": {},
   "outputs": [
    {
     "data": {
      "text/plain": [
       "Index(['review_date', 'user_id', 'rating', 'product_info', 'review_text',\n",
       "       'image_yn', 'recommendation_count', 'product_name', 'product_color',\n",
       "       'product_size', 'user_comment', 'usual_size_mm', 'narrow_feet',\n",
       "       'flat_feet', 'sweaty_feet', 'finish_quality', 'size_fit', 'is_best',\n",
       "       'is_one_month', 'is_repurchase'],\n",
       "      dtype='object')"
      ]
     },
     "execution_count": 325,
     "metadata": {},
     "output_type": "execute_result"
    }
   ],
   "source": [
    "df.columns"
   ]
  },
  {
   "cell_type": "code",
   "execution_count": 326,
   "metadata": {},
   "outputs": [
    {
     "name": "stdout",
     "output_type": "stream",
     "text": [
      "['블루 1.0 ' '블랙 2.0 ' '그레이 ' '화이트 2.0 ' '1) 블랙 ' '1) 블루 ' '2) 블랙 2.0 '\n",
      " '1) 블랙 1.0 ' '1.0블랙 ' '1) 화이트 1.0 ' '2) 화이트 ' '블랙 ' '화이트 ' nan '2) 블랙 '\n",
      " '1) 블루 1.0 ' '1.0화이트 ' '2.0블랙 ' '1.0블루 ' '2) 화이트 2.0 ' '1.0 블랙 ']\n",
      "['에어플로우 ' '에어 슬림 ' '2) 에어플로우 2.0 ' '1) 에어플로우 1.0 ' nan]\n",
      "['265mm' '270mm' '275mm' '290mm' '245mm' '240mm' '260mm' '255mm' '230mm'\n",
      " '250mm' '235mm' '260mm~290mm(재단용)' '280mm' '220mm' '230mm~250mm(재단용)'\n",
      " '남성용(255~290mm)' '여성용(220~250mm) + 고급포장박스' '여성용(220~250mm)'\n",
      " '남성용(255~290mm) + 고급포장박스' '275mm_(차주 발송)' '270mm_(차주 발송)' '280mm_(차주 발송)'\n",
      " '275mm(차주 발송)' '240mm(8월 2주차 발송)' '275mm_(차주 출고)' '260mm_(차주 출고)'\n",
      " '235mm_(차주 발송)' nan '220mm_(차주 발송)' '260mm(8월 2주차 발송)' '280mm(차주 발송)'\n",
      " '250mm_(7월 29일 입고)' '260mm(8월 첫째주 발송 예정)' '240mm_(차주발송)' '240mm(차주 발송)'\n",
      " '265mm_(차주 출고)' '290mm_(차주 발송)' '250mm(차주 발송)' '265mm(8월 2주차 발송)'\n",
      " '265mm_(차주 발송)' '270mm_(8월 2주차 발송)' '270mm_(차주 출고)' '250mm(8월 2주차 발송)'\n",
      " '275mm(8월 첫째주 발송)' '245mm_(7월 29일 입고)' '블랙' '화이트' '265mm (12.09일 발송)'\n",
      " '255mm (블랙)' '250mm (블랙)' '260mm (12.09일 발송)' '(L) 260mm' '265mm (블랙)'\n",
      " '260mm (블랙)' '270mm (12.09일 발송)' '(M) 245mm' '280mm (12.09일 발송)'\n",
      " '(L) 265mm' '(XL) 275mm' '(S) 240mm' '(M) 255mm' '(M) 250mm' '(XL) 280mm'\n",
      " '(S) 230mm' '270mm(블랙)' '245mm (블랙)' '(L) 270mm' '(S) 235mm' '(XL) 290mm']\n"
     ]
    }
   ],
   "source": [
    "print(df.product_color.unique())\n",
    "print(df.product_name.unique())\n",
    "print(df.product_size.unique())"
   ]
  },
  {
   "cell_type": "code",
   "execution_count": 327,
   "metadata": {},
   "outputs": [],
   "source": [
    "df.to_excel('data/prep_data/prep_Xsole.xlsx', index=False)"
   ]
  },
  {
   "cell_type": "markdown",
   "metadata": {},
   "source": [
    "## Sidas"
   ]
  },
  {
   "cell_type": "code",
   "execution_count": 307,
   "metadata": {},
   "outputs": [],
   "source": [
    "df = pd.read_excel('data/Sidas.xlsx')\n",
    "preprocessor = DataPreprocessor(df)\n",
    "preprocessor.preprocess(brand_name=\"Sidas\")\n",
    "# df.head()"
   ]
  },
  {
   "cell_type": "code",
   "execution_count": 308,
   "metadata": {},
   "outputs": [
    {
     "data": {
      "text/plain": [
       "Index(['review_date', 'user_id', 'rating', 'product_info', 'review_text',\n",
       "       'image_yn', 'recommendation_count', 'product_name', 'product_size',\n",
       "       'user_comment', 'usual_size_mm', 'narrow_feet', 'flat_feet',\n",
       "       'sweaty_feet', 'finish_quality', 'size_fit', 'is_best', 'is_one_month',\n",
       "       'is_repurchase'],\n",
       "      dtype='object')"
      ]
     },
     "execution_count": 308,
     "metadata": {},
     "output_type": "execute_result"
    }
   ],
   "source": [
    "df.columns"
   ]
  },
  {
   "cell_type": "code",
   "execution_count": 309,
   "metadata": {},
   "outputs": [
    {
     "name": "stdout",
     "output_type": "stream",
     "text": [
      "['HIGH' 'MID' 'LOW']\n",
      "['250~265' '235~245' '270~280' '220~230' '285~295' '300~310']\n"
     ]
    }
   ],
   "source": [
    "# print(df.product_color.unique())\n",
    "print(df.product_name.unique())\n",
    "print(df.product_size.unique())"
   ]
  },
  {
   "cell_type": "code",
   "execution_count": 310,
   "metadata": {},
   "outputs": [],
   "source": [
    "df.to_excel('data/prep_data/prep_Sidas.xlsx', index=False)"
   ]
  },
  {
   "cell_type": "markdown",
   "metadata": {},
   "source": [
    "## Docsole"
   ]
  },
  {
   "cell_type": "code",
   "execution_count": 315,
   "metadata": {},
   "outputs": [],
   "source": [
    "df = pd.read_excel('data/Docsole.xlsx')\n",
    "preprocessor = DataPreprocessor(df)\n",
    "preprocessor.preprocess(brand_name=\"Docsole\")\n",
    "# df.head()"
   ]
  },
  {
   "cell_type": "code",
   "execution_count": 316,
   "metadata": {},
   "outputs": [
    {
     "data": {
      "text/plain": [
       "Index(['review_date', 'user_id', 'rating', 'product_info', 'review_text',\n",
       "       'image_yn', 'recommendation_count', 'product_step', 'product_name',\n",
       "       'product_size', 'user_comment', 'usual_size_mm', 'narrow_feet',\n",
       "       'flat_feet', 'sweaty_feet', 'finish_quality', 'size_fit', 'is_best',\n",
       "       'is_one_month', 'is_repurchase'],\n",
       "      dtype='object')"
      ]
     },
     "execution_count": 316,
     "metadata": {},
     "output_type": "execute_result"
    }
   ],
   "source": [
    "df.columns"
   ]
  },
  {
   "cell_type": "code",
   "execution_count": 317,
   "metadata": {},
   "outputs": [
    {
     "name": "stdout",
     "output_type": "stream",
     "text": [
      "['D타입(정렬은 바르나 아치가 낮은 평발)' 'N타입(약한 평발)' 'B타입(심한 평발)' 'M타입(아치가 높은 요족)'\n",
      " 'L타입(평발)' 'G타입(아치가 높은 심한 요족)']\n",
      "['양발 사이즈 통일' '양발 사이즈 선택']\n",
      "['290' '265' '245' '270' '275' '250' '260' '285' '280' '240' '235' '255'\n",
      " '230' '295' '225' '220']\n"
     ]
    }
   ],
   "source": [
    "print(df.product_step.unique())\n",
    "print(df.product_name.unique())\n",
    "print(df.product_size.unique())"
   ]
  },
  {
   "cell_type": "code",
   "execution_count": 318,
   "metadata": {},
   "outputs": [],
   "source": [
    "df.to_excel('data/prep_data/prep_Docsole.xlsx', index=False)"
   ]
  },
  {
   "cell_type": "code",
   "execution_count": null,
   "metadata": {},
   "outputs": [],
   "source": []
  }
 ],
 "metadata": {
  "kernelspec": {
   "display_name": "crawling",
   "language": "python",
   "name": "python3"
  },
  "language_info": {
   "codemirror_mode": {
    "name": "ipython",
    "version": 3
   },
   "file_extension": ".py",
   "mimetype": "text/x-python",
   "name": "python",
   "nbconvert_exporter": "python",
   "pygments_lexer": "ipython3",
   "version": "3.9.18"
  }
 },
 "nbformat": 4,
 "nbformat_minor": 2
}
